{
 "cells": [
  {
   "cell_type": "code",
   "execution_count": 2,
   "id": "1175419d",
   "metadata": {
    "tags": []
   },
   "outputs": [],
   "source": [
    "import sys\n",
    "import numpy as np\n",
    "\n"
   ]
  },
  {
   "cell_type": "code",
   "execution_count": 11,
   "id": "be891206-50e9-41fe-a591-b4cf20be57fe",
   "metadata": {},
   "outputs": [
    {
     "data": {
      "text/plain": [
       "729"
      ]
     },
     "execution_count": 11,
     "metadata": {},
     "output_type": "execute_result"
    }
   ],
   "source": [
    "3**6 #Mũ"
   ]
  },
  {
   "cell_type": "markdown",
   "id": "9a6c2d74-a762-41b6-bb52-1dcaaa103271",
   "metadata": {},
   "source": [
    "## Basic Numpy Array"
   ]
  },
  {
   "cell_type": "code",
   "execution_count": 13,
   "id": "62966030-61bc-45a5-8190-a31202e84d66",
   "metadata": {},
   "outputs": [
    {
     "data": {
      "text/plain": [
       "array([ 1,  2,  3,  4,  5,  6,  7,  8,  9, 10, 11, 12, 13])"
      ]
     },
     "execution_count": 13,
     "metadata": {},
     "output_type": "execute_result"
    }
   ],
   "source": [
    "np.array([1,2,3,4,5,6,7,8,9,10,11,12,13])"
   ]
  },
  {
   "cell_type": "code",
   "execution_count": 15,
   "id": "d5b317d5-0543-4f94-8cd3-8d5c55517c6c",
   "metadata": {},
   "outputs": [],
   "source": [
    "A= np.arange(0, 10,dtype= np.int32) #numpy.arange([start, ]stop, [step, ]dtype=None, *, like=None)"
   ]
  },
  {
   "cell_type": "code",
   "execution_count": 16,
   "id": "2144c9c3-6579-4888-a8fb-b8594e05cddf",
   "metadata": {},
   "outputs": [
    {
     "name": "stdout",
     "output_type": "stream",
     "text": [
      "[0 1 2 3 4 5 6 7 8 9]\n"
     ]
    }
   ],
   "source": [
    "print(A)"
   ]
  },
  {
   "cell_type": "code",
   "execution_count": 23,
   "id": "904f68bc-686b-4603-8ab0-b60600edcded",
   "metadata": {},
   "outputs": [
    {
     "data": {
      "text/plain": [
       "array([0, 1, 2, 3, 4, 5, 6, 7, 8, 9])"
      ]
     },
     "execution_count": 23,
     "metadata": {},
     "output_type": "execute_result"
    }
   ],
   "source": [
    "A[0:] #[start:end:step]"
   ]
  },
  {
   "cell_type": "code",
   "execution_count": 19,
   "id": "9bd6efce-9201-4532-9c45-a229e6502e29",
   "metadata": {},
   "outputs": [
    {
     "data": {
      "text/plain": [
       "array([2, 3, 4, 5, 6, 7, 8, 9])"
      ]
     },
     "execution_count": 19,
     "metadata": {},
     "output_type": "execute_result"
    }
   ],
   "source": [
    "A[2:]"
   ]
  },
  {
   "cell_type": "code",
   "execution_count": 18,
   "id": "768ea8f2-f9c8-45c2-bd0f-61524bcf37ae",
   "metadata": {},
   "outputs": [
    {
     "data": {
      "text/plain": [
       "array([2])"
      ]
     },
     "execution_count": 18,
     "metadata": {},
     "output_type": "execute_result"
    }
   ],
   "source": [
    "A[2:3]"
   ]
  },
  {
   "cell_type": "code",
   "execution_count": 20,
   "id": "90a0d78e-3db1-4ca7-9b09-9fb8fe9a2092",
   "metadata": {},
   "outputs": [
    {
     "data": {
      "text/plain": [
       "array([], dtype=int32)"
      ]
     },
     "execution_count": 20,
     "metadata": {},
     "output_type": "execute_result"
    }
   ],
   "source": [
    "A[2:1]"
   ]
  },
  {
   "cell_type": "code",
   "execution_count": 21,
   "id": "efe18e5f-8d52-4c02-887d-412d4673be6c",
   "metadata": {},
   "outputs": [
    {
     "data": {
      "text/plain": [
       "array([], dtype=int32)"
      ]
     },
     "execution_count": 21,
     "metadata": {},
     "output_type": "execute_result"
    }
   ],
   "source": [
    "A[4:1]"
   ]
  },
  {
   "cell_type": "code",
   "execution_count": 22,
   "id": "6739ef5a-9fa1-49aa-aa46-1a2b595964fe",
   "metadata": {},
   "outputs": [
    {
     "data": {
      "text/plain": [
       "array([2, 3])"
      ]
     },
     "execution_count": 22,
     "metadata": {},
     "output_type": "execute_result"
    }
   ],
   "source": [
    "A[2:4]"
   ]
  },
  {
   "cell_type": "code",
   "execution_count": 24,
   "id": "aee1c1ff-acfb-46d9-ab0b-63a472332f9e",
   "metadata": {},
   "outputs": [],
   "source": [
    "B=[range(i,i+3) for i in [2,4,6]]"
   ]
  },
  {
   "cell_type": "code",
   "execution_count": 25,
   "id": "f80411a8-e10a-4efd-af88-4b37063fe164",
   "metadata": {},
   "outputs": [
    {
     "name": "stdout",
     "output_type": "stream",
     "text": [
      "[range(2, 5), range(4, 7), range(6, 9)]\n"
     ]
    }
   ],
   "source": [
    "print(B)"
   ]
  },
  {
   "cell_type": "code",
   "execution_count": 26,
   "id": "2bb35d7f-bc63-4af3-bea7-c17c0f8c66f8",
   "metadata": {},
   "outputs": [
    {
     "name": "stdout",
     "output_type": "stream",
     "text": [
      "range(2, 5)\n"
     ]
    }
   ],
   "source": [
    "print(B[0])"
   ]
  },
  {
   "cell_type": "markdown",
   "id": "3f22ef05-e600-4bf8-8d68-8d42d6075ea4",
   "metadata": {},
   "source": [
    "## Array Types"
   ]
  },
  {
   "cell_type": "code",
   "execution_count": 5,
   "id": "ddc86f15-7fdc-4e30-9645-72298f63008c",
   "metadata": {},
   "outputs": [],
   "source": [
    "a=np.array([1,2,3,6], dtype='float')"
   ]
  },
  {
   "cell_type": "code",
   "execution_count": 28,
   "id": "5fe75c65-ba6b-4091-a0c0-c4a586c0bc12",
   "metadata": {},
   "outputs": [
    {
     "data": {
      "text/plain": [
       "dtype('float64')"
      ]
     },
     "execution_count": 28,
     "metadata": {},
     "output_type": "execute_result"
    }
   ],
   "source": [
    "np.array([2], dtype= np.float64).dtype"
   ]
  },
  {
   "cell_type": "code",
   "execution_count": 30,
   "id": "2e5e9295-e7a8-4711-b820-c7fd940342dc",
   "metadata": {},
   "outputs": [
    {
     "data": {
      "text/plain": [
       "dtype('S1')"
      ]
     },
     "execution_count": 30,
     "metadata": {},
     "output_type": "execute_result"
    }
   ],
   "source": [
    "np.array(['a'], dtype=np.string_).dtype"
   ]
  },
  {
   "cell_type": "code",
   "execution_count": 31,
   "id": "f75fe35b-64f8-4ccc-ae6b-3a79ae2efd3b",
   "metadata": {},
   "outputs": [
    {
     "data": {
      "text/plain": [
       "dtype('<U3')"
      ]
     },
     "execution_count": 31,
     "metadata": {},
     "output_type": "execute_result"
    }
   ],
   "source": [
    "np.array(['abc']).dtype"
   ]
  },
  {
   "cell_type": "code",
   "execution_count": 32,
   "id": "4aa27210-35f8-488c-b4dd-dbd461d8ad9b",
   "metadata": {},
   "outputs": [
    {
     "data": {
      "text/plain": [
       "dtype('<U4')"
      ]
     },
     "execution_count": 32,
     "metadata": {},
     "output_type": "execute_result"
    }
   ],
   "source": [
    "np.array(['abcd']).dtype"
   ]
  },
  {
   "cell_type": "code",
   "execution_count": 8,
   "id": "794be64a-bbcd-4c01-a3db-805a55fc1bd7",
   "metadata": {},
   "outputs": [],
   "source": [
    "b= np.array([6,8,9], dtype= np.int32)"
   ]
  },
  {
   "cell_type": "code",
   "execution_count": 7,
   "id": "2c46e6ef-9560-4770-8d2b-486a94adf6ac",
   "metadata": {},
   "outputs": [
    {
     "data": {
      "text/plain": [
       "dtype('float64')"
      ]
     },
     "execution_count": 7,
     "metadata": {},
     "output_type": "execute_result"
    }
   ],
   "source": [
    "a.dtype"
   ]
  },
  {
   "cell_type": "code",
   "execution_count": 9,
   "id": "199233e4-eb24-4c39-94df-ef8d59f49f9c",
   "metadata": {},
   "outputs": [
    {
     "data": {
      "text/plain": [
       "dtype('int32')"
      ]
     },
     "execution_count": 9,
     "metadata": {},
     "output_type": "execute_result"
    }
   ],
   "source": [
    "b.dtype"
   ]
  },
  {
   "cell_type": "markdown",
   "id": "50e0c4b9-cbbd-4820-96fd-ccd7ca33c399",
   "metadata": {},
   "source": [
    "## Demensions and shapes"
   ]
  },
  {
   "cell_type": "code",
   "execution_count": 33,
   "id": "d85f7b86-d04e-4be1-a6b5-5a8020f94bc4",
   "metadata": {},
   "outputs": [],
   "source": [
    "A= np.array([\n",
    "    [1,6,5],\n",
    "    [5,9,8]\n",
    "])"
   ]
  },
  {
   "cell_type": "code",
   "execution_count": 34,
   "id": "f987c858-8810-4f22-b815-faa391f12961",
   "metadata": {},
   "outputs": [
    {
     "name": "stdout",
     "output_type": "stream",
     "text": [
      "[[1 6 5]\n",
      " [5 9 8]]\n"
     ]
    }
   ],
   "source": [
    "print(A)"
   ]
  },
  {
   "cell_type": "code",
   "execution_count": 35,
   "id": "98a42a58-e608-43f2-b49e-6fa9a37fbeb0",
   "metadata": {},
   "outputs": [
    {
     "data": {
      "text/plain": [
       "(2, 3)"
      ]
     },
     "execution_count": 35,
     "metadata": {},
     "output_type": "execute_result"
    }
   ],
   "source": [
    "A.shape"
   ]
  },
  {
   "cell_type": "code",
   "execution_count": 36,
   "id": "2ad55125-67fe-4c2f-bfb8-b24f0ab10d12",
   "metadata": {},
   "outputs": [
    {
     "data": {
      "text/plain": [
       "2"
      ]
     },
     "execution_count": 36,
     "metadata": {},
     "output_type": "execute_result"
    }
   ],
   "source": [
    "A.ndim"
   ]
  },
  {
   "cell_type": "code",
   "execution_count": 37,
   "id": "fcba66cb-6ea1-4574-a7dc-87b4f904f580",
   "metadata": {},
   "outputs": [
    {
     "data": {
      "text/plain": [
       "6"
      ]
     },
     "execution_count": 37,
     "metadata": {},
     "output_type": "execute_result"
    }
   ],
   "source": [
    "A.size"
   ]
  },
  {
   "cell_type": "code",
   "execution_count": 38,
   "id": "ac7e5212-6c57-4404-b1b0-3a6be36b3005",
   "metadata": {},
   "outputs": [
    {
     "data": {
      "text/plain": [
       "dtype('int32')"
      ]
     },
     "execution_count": 38,
     "metadata": {},
     "output_type": "execute_result"
    }
   ],
   "source": [
    "A.dtype"
   ]
  },
  {
   "cell_type": "markdown",
   "id": "c6ac234d-b650-4291-9816-afc6a2d6b78e",
   "metadata": {},
   "source": [
    "## Indexing and slicing of matrices"
   ]
  },
  {
   "cell_type": "code",
   "execution_count": 56,
   "id": "5c564678-1f09-4b42-a3da-5cabf08dbd24",
   "metadata": {},
   "outputs": [],
   "source": [
    "A= np.array([\n",
    "    np.arange(1,4),\n",
    "    np.arange(4,7),\n",
    "    np.arange(7,10),\n",
    "])"
   ]
  },
  {
   "cell_type": "code",
   "execution_count": 57,
   "id": "baf2453c-7a75-4286-93e0-bc84125be585",
   "metadata": {},
   "outputs": [
    {
     "name": "stdout",
     "output_type": "stream",
     "text": [
      "[[1 2 3]\n",
      " [4 5 6]\n",
      " [7 8 9]]\n"
     ]
    }
   ],
   "source": [
    "print(A)"
   ]
  },
  {
   "cell_type": "markdown",
   "id": "e721082d-958b-4486-8421-8312ed9ab3bf",
   "metadata": {},
   "source": [
    "## Summary Statistics"
   ]
  },
  {
   "cell_type": "code",
   "execution_count": 58,
   "id": "2dfbe975-8d89-466e-84fd-2cfa70915c4e",
   "metadata": {},
   "outputs": [],
   "source": [
    "A= np.array([\n",
    "    np.arange(1,4),\n",
    "    np.arange(4,7),\n",
    "    np.arange(7,10),\n",
    "])"
   ]
  },
  {
   "cell_type": "code",
   "execution_count": 59,
   "id": "6d6ce09c-a2c4-458f-b976-a707b164bc77",
   "metadata": {},
   "outputs": [],
   "source": [
    "A= np.array([\n",
    "    np.arange(1,4),\n",
    "    np.arange(4,7),\n",
    "    np.arange(7,10),\n",
    "])"
   ]
  },
  {
   "cell_type": "code",
   "execution_count": 60,
   "id": "9dec2443-1e03-4eb5-a056-cd6add76261d",
   "metadata": {},
   "outputs": [
    {
     "data": {
      "text/plain": [
       "45"
      ]
     },
     "execution_count": 60,
     "metadata": {},
     "output_type": "execute_result"
    }
   ],
   "source": [
    "A.sum()"
   ]
  },
  {
   "cell_type": "code",
   "execution_count": 61,
   "id": "3ec6a003-5a7f-4628-9039-241d3085b55d",
   "metadata": {},
   "outputs": [
    {
     "data": {
      "text/plain": [
       "5.0"
      ]
     },
     "execution_count": 61,
     "metadata": {},
     "output_type": "execute_result"
    }
   ],
   "source": [
    "A.mean()"
   ]
  },
  {
   "cell_type": "code",
   "execution_count": 62,
   "id": "8ad3b33b-f2e6-4ea1-8c93-3d329fe218e0",
   "metadata": {},
   "outputs": [
    {
     "data": {
      "text/plain": [
       "2.581988897471611"
      ]
     },
     "execution_count": 62,
     "metadata": {},
     "output_type": "execute_result"
    }
   ],
   "source": [
    "A.std()"
   ]
  },
  {
   "cell_type": "code",
   "execution_count": 63,
   "id": "0ad51093-dcca-442e-ac20-fe0173dec780",
   "metadata": {},
   "outputs": [
    {
     "data": {
      "text/plain": [
       "array([12, 15, 18])"
      ]
     },
     "execution_count": 63,
     "metadata": {},
     "output_type": "execute_result"
    }
   ],
   "source": [
    "A.sum(axis=0)"
   ]
  },
  {
   "cell_type": "code",
   "execution_count": 64,
   "id": "e802aef0-92df-4b33-ac38-79ec7ede2a35",
   "metadata": {},
   "outputs": [
    {
     "data": {
      "text/plain": [
       "array([ 6, 15, 24])"
      ]
     },
     "execution_count": 64,
     "metadata": {},
     "output_type": "execute_result"
    }
   ],
   "source": [
    "A.sum(axis=1)"
   ]
  },
  {
   "cell_type": "code",
   "execution_count": 65,
   "id": "b23c3519-1e5a-44c0-9329-9543b09ea9e4",
   "metadata": {},
   "outputs": [
    {
     "data": {
      "text/plain": [
       "array([0.81649658, 0.81649658, 0.81649658])"
      ]
     },
     "execution_count": 65,
     "metadata": {},
     "output_type": "execute_result"
    }
   ],
   "source": [
    "A.std(axis=1)"
   ]
  },
  {
   "cell_type": "markdown",
   "id": "4c863a56-b74f-429f-9b42-673ecc4e8d58",
   "metadata": {},
   "source": [
    "## Boarcasting and vectorized operations"
   ]
  },
  {
   "cell_type": "code",
   "execution_count": 70,
   "id": "5cb422c7-fe79-42e0-bbff-24e5daeeaede",
   "metadata": {},
   "outputs": [],
   "source": [
    "A= np.arange(4)"
   ]
  },
  {
   "cell_type": "code",
   "execution_count": 71,
   "id": "0ac7bb13-d3d9-4182-a66c-13f50bd0a962",
   "metadata": {},
   "outputs": [
    {
     "name": "stdout",
     "output_type": "stream",
     "text": [
      "[0 1 2 3]\n"
     ]
    }
   ],
   "source": [
    "print(A)"
   ]
  },
  {
   "cell_type": "code",
   "execution_count": 72,
   "id": "7f16a96c-c547-4b3e-b0e6-7b85b8736766",
   "metadata": {},
   "outputs": [
    {
     "data": {
      "text/plain": [
       "array([ 0, 10, 20, 30])"
      ]
     },
     "execution_count": 72,
     "metadata": {},
     "output_type": "execute_result"
    }
   ],
   "source": [
    "A*10"
   ]
  },
  {
   "cell_type": "code",
   "execution_count": 76,
   "id": "149aeae9-bd9f-4e2e-9d6f-5d9f89d736e0",
   "metadata": {},
   "outputs": [
    {
     "data": {
      "text/plain": [
       "array([False,  True,  True,  True])"
      ]
     },
     "execution_count": 76,
     "metadata": {},
     "output_type": "execute_result"
    }
   ],
   "source": [
    ">=2"
   ]
  },
  {
   "cell_type": "code",
   "execution_count": 74,
   "id": "fd8b81b7-bd6d-4f65-9b1b-2cad2bc77cc6",
   "metadata": {},
   "outputs": [],
   "source": [
    "B= [i*100 for i in A]"
   ]
  },
  {
   "cell_type": "code",
   "execution_count": 75,
   "id": "eca47881-97b4-47a9-86ed-9abe83f0f08f",
   "metadata": {},
   "outputs": [
    {
     "name": "stdout",
     "output_type": "stream",
     "text": [
      "[0, 100, 200, 300]\n"
     ]
    }
   ],
   "source": [
    "print(B)"
   ]
  },
  {
   "cell_type": "markdown",
   "id": "09d26fcf-f73c-4df1-b092-77aba164ac5f",
   "metadata": {},
   "source": [
    "### `eye`, `empty`"
   ]
  },
  {
   "cell_type": "code",
   "execution_count": 73,
   "id": "eff53dbe-5713-4b3a-b79c-1b931e040a24",
   "metadata": {},
   "outputs": [
    {
     "data": {
      "text/plain": [
       "array([[1., 0., 0.],\n",
       "       [0., 1., 0.],\n",
       "       [0., 0., 1.]])"
      ]
     },
     "execution_count": 73,
     "metadata": {},
     "output_type": "execute_result"
    }
   ],
   "source": [
    "np.eye(3)"
   ]
  }
 ],
 "metadata": {
  "kernelspec": {
   "display_name": "Python 3 (ipykernel)",
   "language": "python",
   "name": "python3"
  },
  "language_info": {
   "codemirror_mode": {
    "name": "ipython",
    "version": 3
   },
   "file_extension": ".py",
   "mimetype": "text/x-python",
   "name": "python",
   "nbconvert_exporter": "python",
   "pygments_lexer": "ipython3",
   "version": "3.9.6"
  }
 },
 "nbformat": 4,
 "nbformat_minor": 5
}
