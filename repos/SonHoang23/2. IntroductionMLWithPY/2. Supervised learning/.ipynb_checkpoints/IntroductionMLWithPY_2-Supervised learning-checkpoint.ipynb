{
 "cells": [
  {
   "cell_type": "markdown",
   "id": "6c78d059",
   "metadata": {},
   "source": [
    "# chapter 2: supervised learning (page32)"
   ]
  },
  {
   "cell_type": "code",
   "execution_count": 2,
   "id": "0f2ed206",
   "metadata": {},
   "outputs": [],
   "source": [
    "### Import libs"
   ]
  },
  {
   "cell_type": "code",
   "execution_count": null,
   "id": "26512fd7",
   "metadata": {},
   "outputs": [],
   "source": [
    "import mglearn"
   ]
  },
  {
   "cell_type": "code",
   "execution_count": null,
   "id": "e47a7111",
   "metadata": {},
   "outputs": [],
   "source": [
    "X, y= mglearn.da"
   ]
  }
 ],
 "metadata": {
  "kernelspec": {
   "display_name": "Python 3",
   "language": "python",
   "name": "python3"
  },
  "language_info": {
   "codemirror_mode": {
    "name": "ipython",
    "version": 3
   },
   "file_extension": ".py",
   "mimetype": "text/x-python",
   "name": "python",
   "nbconvert_exporter": "python",
   "pygments_lexer": "ipython3",
   "version": "3.8.8"
  }
 },
 "nbformat": 4,
 "nbformat_minor": 5
}
