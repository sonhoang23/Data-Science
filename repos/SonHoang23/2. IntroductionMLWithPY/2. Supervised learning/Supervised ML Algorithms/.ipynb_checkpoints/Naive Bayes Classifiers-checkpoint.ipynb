{
 "cells": [
  {
   "cell_type": "markdown",
   "id": "cb062590",
   "metadata": {},
   "source": [
    "# Naive Bayes Classifiers"
   ]
  },
  {
   "cell_type": "markdown",
   "id": "7b857777",
   "metadata": {},
   "source": [
    "Có 3 loại naive Bayes\n",
    "- BernoulliNB: binary data\n",
    "- GausianNB: continous data\n",
    "- MultinomialNB: count data (that is, that each feature represents an integer count of something, like how often a word appears in a sentence)"
   ]
  },
  {
   "cell_type": "code",
   "execution_count": 2,
   "id": "1aa11295",
   "metadata": {},
   "outputs": [],
   "source": [
    "import numpy as np"
   ]
  },
  {
   "cell_type": "markdown",
   "id": "e0d17acc",
   "metadata": {},
   "source": [
    "## BernouliNB"
   ]
  },
  {
   "cell_type": "code",
   "execution_count": 63,
   "id": "b5178267",
   "metadata": {},
   "outputs": [],
   "source": [
    "X= np.array([[0,1,0,1], \n",
    "             [1,0,1,0],\n",
    "             [0,0,0,1],\n",
    "             [1,0,1,0]])\n",
    "y= np.array([0,1,0,1])"
   ]
  },
  {
   "cell_type": "code",
   "execution_count": 66,
   "id": "6189aeee",
   "metadata": {},
   "outputs": [
    {
     "name": "stdout",
     "output_type": "stream",
     "text": [
      "np.unique(X): [0 1]\n",
      "-----------------------------------------\n",
      "label: 0\n",
      "y: [0 1 0 1]\n",
      "y==label: [ True False  True False]\n",
      "X[y==label]: [[0 1 0 1]\n",
      " [0 0 0 1]]\n",
      "X[0]: [0 1 0 1]\n",
      "counts[label]: [0 1 0 2]\n",
      "X[y==label].sum: 3\n",
      "-------------------------------------------\n",
      "label: 1\n",
      "y: [0 1 0 1]\n",
      "y==label: [False  True False  True]\n",
      "X[y==label]: [[1 0 1 0]\n",
      " [1 0 1 0]]\n",
      "X[0]: [0 1 0 1]\n",
      "counts[label]: [2 0 2 0]\n",
      "X[y==label].sum: 4\n",
      "-------------------------------------------\n",
      "Feature counts:\n",
      "{0: array([0, 1, 0, 2]), 1: array([2, 0, 2, 0])}\n"
     ]
    },
    {
     "data": {
      "text/plain": [
       "array([0, 1])"
      ]
     },
     "execution_count": 66,
     "metadata": {},
     "output_type": "execute_result"
    }
   ],
   "source": [
    "print(\"np.unique(X): {}\".format(np.unique(X)))\n",
    "print(\"-----------------------------------------\")\n",
    "counts={}\n",
    "z= np.array([0,1,2,3])\n",
    "for label in np.unique(y):\n",
    "    # interate over each class\n",
    "    # count (sum) entries of 1 perfeature\n",
    "    counts[label]= X[y==label].sum(axis=0)\n",
    "    print(\"label: {}\".format(label))\n",
    "    print(\"y: {}\".format(y))\n",
    "    print(\"y==label: {}\".format(y==label))\n",
    "    #print(\"X[True False  True False]: {}\".format(X[1,0,1,0]))\n",
    "    print(\"X[y==label]: {}\".format(X[y==label]))\n",
    "    print(\"X[0]: {}\".format(X[0]))\n",
    "    print(\"counts[label]: {}\".format(counts[label]))\n",
    "    print(\"X[y==label].sum: {}\".format(X[y==label].sum()))\n",
    "    print(\"-------------------------------------------\")\n",
    "print(\"Feature counts:\\n{}\".format(counts))\n",
    "np.unique?\n",
    "np.unique(y)"
   ]
  },
  {
   "cell_type": "code",
   "execution_count": null,
   "id": "be28a8a4",
   "metadata": {},
   "outputs": [],
   "source": []
  }
 ],
 "metadata": {
  "kernelspec": {
   "display_name": "Python 3",
   "language": "python",
   "name": "python3"
  },
  "language_info": {
   "codemirror_mode": {
    "name": "ipython",
    "version": 3
   },
   "file_extension": ".py",
   "mimetype": "text/x-python",
   "name": "python",
   "nbconvert_exporter": "python",
   "pygments_lexer": "ipython3",
   "version": "3.8.8"
  },
  "toc": {
   "base_numbering": 1,
   "nav_menu": {},
   "number_sections": true,
   "sideBar": true,
   "skip_h1_title": false,
   "title_cell": "Table of Contents",
   "title_sidebar": "Contents",
   "toc_cell": false,
   "toc_position": {},
   "toc_section_display": true,
   "toc_window_display": false
  }
 },
 "nbformat": 4,
 "nbformat_minor": 5
}
