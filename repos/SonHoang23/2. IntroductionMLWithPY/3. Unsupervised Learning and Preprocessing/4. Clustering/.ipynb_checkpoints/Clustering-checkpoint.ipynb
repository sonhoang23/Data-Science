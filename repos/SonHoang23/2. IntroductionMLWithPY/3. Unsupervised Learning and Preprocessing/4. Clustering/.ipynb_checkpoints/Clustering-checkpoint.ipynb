{
 "cells": [
  {
   "cell_type": "markdown",
   "id": "4c62fd01",
   "metadata": {},
   "source": [
    "# Clustering (MLCB: 110, INTRO: 170)"
   ]
  },
  {
   "cell_type": "markdown",
   "id": "d8ce235d",
   "metadata": {},
   "source": [
    "## Overview\n",
    "- Là một task phân loại dataset vào các group được gọi là clusters.  \n",
    "- Mục tiêu là chia data ra vào các cluster có các điểm tương đồng với nhau và khác các points ở các cluster khác\n",
    "- Tương tự như các thuật toán phân loại, clustering algorithms predict (asign) một lượng các data point và chỉ ra đâu là cluster nó thuộc về"
   ]
  },
  {
   "cell_type": "markdown",
   "id": "b64c0e07",
   "metadata": {},
   "source": [
    "## Phân tích toán học\n",
    "- Đầu vào: dữ liệu đầu vào và số lượng nhóm\n",
    "- Đầu ra: xác định centroid của mỗi nhómm và phân vào các nhóm tương ứng"
   ]
  },
  {
   "cell_type": "code",
   "execution_count": null,
   "id": "54ccc12d",
   "metadata": {},
   "outputs": [],
   "source": []
  }
 ],
 "metadata": {
  "kernelspec": {
   "display_name": "Python 3",
   "language": "python",
   "name": "python3"
  },
  "language_info": {
   "codemirror_mode": {
    "name": "ipython",
    "version": 3
   },
   "file_extension": ".py",
   "mimetype": "text/x-python",
   "name": "python",
   "nbconvert_exporter": "python",
   "pygments_lexer": "ipython3",
   "version": "3.8.8"
  },
  "toc": {
   "base_numbering": 1,
   "nav_menu": {},
   "number_sections": true,
   "sideBar": true,
   "skip_h1_title": false,
   "title_cell": "Table of Contents",
   "title_sidebar": "Contents",
   "toc_cell": false,
   "toc_position": {},
   "toc_section_display": true,
   "toc_window_display": false
  }
 },
 "nbformat": 4,
 "nbformat_minor": 5
}
