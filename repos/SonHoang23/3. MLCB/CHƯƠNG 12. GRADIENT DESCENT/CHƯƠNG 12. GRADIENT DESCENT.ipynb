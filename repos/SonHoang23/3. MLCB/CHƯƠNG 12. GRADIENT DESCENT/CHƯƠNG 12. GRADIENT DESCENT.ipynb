{
 "cells": [
  {
   "cell_type": "code",
   "execution_count": 2,
   "id": "651ebdc4",
   "metadata": {},
   "outputs": [],
   "source": [
    "import numpy as np"
   ]
  },
  {
   "cell_type": "code",
   "execution_count": 2,
   "id": "f95f05fb",
   "metadata": {},
   "outputs": [],
   "source": [
    "def grad(x):\n",
    "    return 2*x+5*np.cos(x)"
   ]
  },
  {
   "cell_type": "code",
   "execution_count": 3,
   "id": "f185deca",
   "metadata": {},
   "outputs": [],
   "source": [
    "def cost(x):\n",
    "    return x*2+5*np.sin(x)"
   ]
  },
  {
   "cell_type": "code",
   "execution_count": 4,
   "id": "ac92ad6c",
   "metadata": {},
   "outputs": [],
   "source": [
    "def myGD1(x0, eta):\n",
    "    x=[x0]\n",
    "    for it in range(100):\n",
    "        x_new=x[-1] - eta*grad(x[-1])\n",
    "        if abs(grad(x_new))< le-3:\n",
    "            break;\n",
    "        x.append(x_new)\n",
    "    return(x,it)"
   ]
  },
  {
   "cell_type": "markdown",
   "id": "a52e3495",
   "metadata": {},
   "source": [
    "-------------------------"
   ]
  },
  {
   "cell_type": "code",
   "execution_count": 20,
   "id": "7bccbd1f",
   "metadata": {},
   "outputs": [
    {
     "data": {
      "text/plain": [
       "(array([2, 3, 4, 5, 6, 7, 8, 9]),\n",
       " array([[2, 3],\n",
       "        [4, 5],\n",
       "        [6, 7],\n",
       "        [8, 9]]))"
      ]
     },
     "execution_count": 20,
     "metadata": {},
     "output_type": "execute_result"
    }
   ],
   "source": [
    "x= np.arange(2,10)\n",
    "\n",
    "np.arange?\n",
    "x,x.reshape(-1,2)"
   ]
  },
  {
   "cell_type": "code",
   "execution_count": 11,
   "id": "98a40b7b",
   "metadata": {
    "scrolled": true
   },
   "outputs": [],
   "source": [
    "from sklearn.linear_model import LinearRegression\n",
    "import numpy as np\n",
    "X= np.random.rand(1000);\n",
    "y = 4 + 3 * X + .5*np.random.randn(1000) # noise added\n",
    "a = np.arange(2,10)"
   ]
  },
  {
   "cell_type": "code",
   "execution_count": 25,
   "id": "2db24db1",
   "metadata": {},
   "outputs": [
    {
     "data": {
      "text/plain": [
       "(array([[1.        , 0.81799266],\n",
       "        [1.        , 0.80859108],\n",
       "        [1.        , 0.51629609],\n",
       "        ...,\n",
       "        [1.        , 0.31703514],\n",
       "        [1.        , 0.49547804],\n",
       "        [1.        , 0.09145985]]),\n",
       " array([[1.        , 1.        , 1.        , ..., 1.        , 1.        ,\n",
       "         1.        ],\n",
       "        [0.81799266, 0.80859108, 0.51629609, ..., 0.31703514, 0.49547804,\n",
       "         0.09145985]]))"
      ]
     },
     "execution_count": 25,
     "metadata": {},
     "output_type": "execute_result"
    }
   ],
   "source": [
    "# Building Xbar \n",
    "one = np.ones((X.shape[0],1))\n",
    "Xbar = np.concatenate((one, X.reshape(-1, 1)), axis = 1)\n",
    "Xbar, Xbar.T"
   ]
  },
  {
   "cell_type": "code",
   "execution_count": 22,
   "id": "28228f2e",
   "metadata": {},
   "outputs": [],
   "source": [
    "def grad(w):\n",
    "    N = Xbar.shape[0]\n",
    "    return 1/N * Xbar.T.dot(Xbar.dot(w) - y)"
   ]
  }
 ],
 "metadata": {
  "kernelspec": {
   "display_name": "Python 3",
   "language": "python",
   "name": "python3"
  },
  "language_info": {
   "codemirror_mode": {
    "name": "ipython",
    "version": 3
   },
   "file_extension": ".py",
   "mimetype": "text/x-python",
   "name": "python",
   "nbconvert_exporter": "python",
   "pygments_lexer": "ipython3",
   "version": "3.8.8"
  },
  "toc": {
   "base_numbering": 1,
   "nav_menu": {},
   "number_sections": true,
   "sideBar": true,
   "skip_h1_title": false,
   "title_cell": "Table of Contents",
   "title_sidebar": "Contents",
   "toc_cell": false,
   "toc_position": {},
   "toc_section_display": true,
   "toc_window_display": false
  }
 },
 "nbformat": 4,
 "nbformat_minor": 5
}
