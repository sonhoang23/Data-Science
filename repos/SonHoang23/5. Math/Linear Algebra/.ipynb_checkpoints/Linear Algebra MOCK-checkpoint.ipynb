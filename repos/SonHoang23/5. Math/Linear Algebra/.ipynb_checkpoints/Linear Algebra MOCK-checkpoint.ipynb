{
 "cells": [
  {
   "cell_type": "code",
   "execution_count": null,
   "id": "17e65924",
   "metadata": {},
   "outputs": [],
   "source": []
  },
  {
   "cell_type": "code",
   "execution_count": null,
   "id": "6620b7d7-c998-47ee-b43f-3759a3c1fc03",
   "metadata": {},
   "outputs": [],
   "source": [
    "asdasdsa"
   ]
  },
  {
   "cell_type": "code",
   "execution_count": null,
   "id": "9e923834-ca8f-4584-9241-540be1b5c3fa",
   "metadata": {},
   "outputs": [],
   "source": []
  }
 ],
 "metadata": {
  "kernelspec": {
   "display_name": "Python 3",
   "language": "python",
   "name": "python3"
  },
  "language_info": {
   "codemirror_mode": {
    "name": "ipython",
    "version": 3
   },
   "file_extension": ".py",
   "mimetype": "text/x-python",
   "name": "python",
   "nbconvert_exporter": "python",
   "pygments_lexer": "ipython3",
   "version": "3.8.8"
  }
 },
 "nbformat": 4,
 "nbformat_minor": 5
}
