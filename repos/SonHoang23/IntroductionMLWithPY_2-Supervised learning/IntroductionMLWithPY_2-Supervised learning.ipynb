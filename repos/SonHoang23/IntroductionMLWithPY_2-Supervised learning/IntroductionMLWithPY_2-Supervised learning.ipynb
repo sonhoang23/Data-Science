{
 "cells": [
  {
   "cell_type": "markdown",
   "id": "6c78d059",
   "metadata": {},
   "source": [
    "# chapter 2: supervised learning (page32)"
   ]
  },
  {
   "cell_type": "markdown",
   "id": "04366d92",
   "metadata": {},
   "source": [
    "### Import libs"
   ]
  },
  {
   "cell_type": "code",
   "execution_count": 71,
   "id": "26512fd7",
   "metadata": {},
   "outputs": [],
   "source": [
    "import mglearn\n",
    "import matplotlib.pyplot as plt #Visualization with Python\n",
    "import pandas as pd\n",
    "import numpy as np #hàm thư viện toán học\n",
    "#from sklearn.datasets import make_blobs"
   ]
  },
  {
   "cell_type": "markdown",
   "id": "4a7f60b3",
   "metadata": {},
   "source": [
    "![purple-divider](https://user-images.githubusercontent.com/7065401/52071927-c1cd7100-2562-11e9-908a-dde91ba14e59.png)"
   ]
  },
  {
   "cell_type": "markdown",
   "id": "21e60809",
   "metadata": {},
   "source": [
    "## example 1: 2 feature (2 dimention)"
   ]
  },
  {
   "cell_type": "code",
   "execution_count": 52,
   "id": "1b76dc8b",
   "metadata": {},
   "outputs": [],
   "source": [
    "# generate dataset\n",
    "X, y = mglearn.datasets.make_forge()\n",
    "#print(\"X: {}\".format(X))\n",
    "#print(\"y: {}\".format(y))\n",
    "# có 2 feature và 26 datapoint\n",
    "# có 2 class/ label"
   ]
  },
  {
   "cell_type": "code",
   "execution_count": 53,
   "id": "49b803a9",
   "metadata": {},
   "outputs": [
    {
     "name": "stdout",
     "output_type": "stream",
     "text": [
      "X.shape: (26, 2)\n"
     ]
    },
    {
     "data": {
      "image/png": "[encoded data removed]",
      "text/plain": [
       "<Figure size 432x288 with 1 Axes>"
      ]
     },
     "metadata": {
      "needs_background": "light"
     },
     "output_type": "display_data"
    }
   ],
   "source": [
    "# plot dataset\n",
    "mglearn.discrete_scatter(X[:, 0], X[:, 1], y) \n",
    "# First argument: X value of each data drawn in scatter chart\n",
    "# Second argument: Y value of each data drawn in the scatter chart\n",
    "# Third argument: LABEL of each data to be drawn in the scatter plot\n",
    "# x[row,column]\n",
    "# \":\" before or after the row and column values. Before the value it means \"unitl\" and after the value it means \"from\".\n",
    "# x[:,:] would mean u want every row and every column.\n",
    "# x[3,3] would mean u want the 3 row and the 3 column value (3 là lấy cột số 0, số 1, số 2) (3 nghĩa là lấy tổng 3 bắt đầu từ số 0)\n",
    "# x[:3,:3] would mean u want the rows and columns until 3\n",
    "# x[:, 3] would mean u want the 3 column and every row\n",
    "\n",
    "plt.legend([\"Class 0\", \"Class 1\"], loc=4)\n",
    "# legend displays a legend.locspecifies the display position of the legend.loc = 4meanslower right.\n",
    "# See matplotlib.pyplot.legend for details.\n",
    "plt.xlabel(\"First feature\")\n",
    "plt.ylabel(\"Second feature\")\n",
    "print(\"X.shape: {}\".format(X.shape))"
   ]
  },
  {
   "cell_type": "markdown",
   "id": "5bcec7a5",
   "metadata": {},
   "source": [
    "![purple-divider](https://user-images.githubusercontent.com/7065401/52071927-c1cd7100-2562-11e9-908a-dde91ba14e59.png)"
   ]
  },
  {
   "cell_type": "markdown",
   "id": "672b2108",
   "metadata": {},
   "source": [
    "## example 2: 1 feature"
   ]
  },
  {
   "cell_type": "code",
   "execution_count": 54,
   "id": "86586c5c",
   "metadata": {},
   "outputs": [],
   "source": [
    "X, y = mglearn.datasets.make_wave(n_samples=40)\n",
    "#print(\"X: {}\".format(X))\n",
    "#print(\"y: {}\".format(y))\n"
   ]
  },
  {
   "cell_type": "code",
   "execution_count": 55,
   "id": "12cc81af",
   "metadata": {},
   "outputs": [
    {
     "data": {
      "text/plain": [
       "Text(0, 0.5, 'Target')"
      ]
     },
     "execution_count": 55,
     "metadata": {},
     "output_type": "execute_result"
    },
    {
     "data": {
      "image/png": "[encoded data removed]",
      "text/plain": [
       "<Figure size 432x288 with 1 Axes>"
      ]
     },
     "metadata": {
      "needs_background": "light"
     },
     "output_type": "display_data"
    }
   ],
   "source": [
    "plt.plot(X, y, 'o')\n",
    "plt.ylim(-3, 3)\n",
    "plt.xlabel(\"Feature\")\n",
    "plt.ylabel(\"Target\")\n",
    "# To illustrate regression algorithms, we will use the synthetic wave dataset. The wave\n",
    "# dataset has a single input feature and a continuous target variable (or response) that\n",
    "# we want to model. The plot created here (Figure 2-3) shows the single feature on the\n",
    "# x-axis and the regression target (the output) on the y-axis:"
   ]
  },
  {
   "cell_type": "markdown",
   "id": "52b20deb",
   "metadata": {},
   "source": [
    "![purple-divider](https://user-images.githubusercontent.com/7065401/52071927-c1cd7100-2562-11e9-908a-dde91ba14e59.png)"
   ]
  },
  {
   "cell_type": "markdown",
   "id": "57f61b0b",
   "metadata": {},
   "source": [
    "## example 3"
   ]
  },
  {
   "cell_type": "code",
   "execution_count": 56,
   "id": "bd2d1f32",
   "metadata": {
    "scrolled": true
   },
   "outputs": [
    {
     "name": "stdout",
     "output_type": "stream",
     "text": [
      "cancer.keys(): \n",
      "dict_keys(['data', 'target', 'frame', 'target_names', 'DESCR', 'feature_names', 'filename'])\n"
     ]
    }
   ],
   "source": [
    "from sklearn.datasets import load_breast_cancer\n",
    "cancer = load_breast_cancer()\n",
    "#print(cancer)\n",
    "print(\"cancer.keys(): \\n{}\".format(cancer.keys()))"
   ]
  },
  {
   "cell_type": "code",
   "execution_count": 57,
   "id": "14651ee5",
   "metadata": {},
   "outputs": [
    {
     "name": "stdout",
     "output_type": "stream",
     "text": [
      "cancer data shape: (569, 30)\n",
      "cancer target shape: (569,)\n"
     ]
    },
    {
     "data": {
      "text/html": [
       "<div>\n",
       "<style scoped>\n",
       "    .dataframe tbody tr th:only-of-type {\n",
       "        vertical-align: middle;\n",
       "    }\n",
       "\n",
       "    .dataframe tbody tr th {\n",
       "        vertical-align: top;\n",
       "    }\n",
       "\n",
       "    .dataframe thead th {\n",
       "        text-align: right;\n",
       "    }\n",
       "</style>\n",
       "<table border=\"1\" class=\"dataframe\">\n",
       "  <thead>\n",
       "    <tr style=\"text-align: right;\">\n",
       "      <th></th>\n",
       "      <th>0</th>\n",
       "      <th>1</th>\n",
       "      <th>2</th>\n",
       "      <th>3</th>\n",
       "      <th>4</th>\n",
       "      <th>5</th>\n",
       "      <th>6</th>\n",
       "      <th>7</th>\n",
       "      <th>8</th>\n",
       "      <th>9</th>\n",
       "      <th>...</th>\n",
       "      <th>20</th>\n",
       "      <th>21</th>\n",
       "      <th>22</th>\n",
       "      <th>23</th>\n",
       "      <th>24</th>\n",
       "      <th>25</th>\n",
       "      <th>26</th>\n",
       "      <th>27</th>\n",
       "      <th>28</th>\n",
       "      <th>29</th>\n",
       "    </tr>\n",
       "  </thead>\n",
       "  <tbody>\n",
       "    <tr>\n",
       "      <th>0</th>\n",
       "      <td>mean radius</td>\n",
       "      <td>mean texture</td>\n",
       "      <td>mean perimeter</td>\n",
       "      <td>mean area</td>\n",
       "      <td>mean smoothness</td>\n",
       "      <td>mean compactness</td>\n",
       "      <td>mean concavity</td>\n",
       "      <td>mean concave points</td>\n",
       "      <td>mean symmetry</td>\n",
       "      <td>mean fractal dimension</td>\n",
       "      <td>...</td>\n",
       "      <td>worst radius</td>\n",
       "      <td>worst texture</td>\n",
       "      <td>worst perimeter</td>\n",
       "      <td>worst area</td>\n",
       "      <td>worst smoothness</td>\n",
       "      <td>worst compactness</td>\n",
       "      <td>worst concavity</td>\n",
       "      <td>worst concave points</td>\n",
       "      <td>worst symmetry</td>\n",
       "      <td>worst fractal dimension</td>\n",
       "    </tr>\n",
       "  </tbody>\n",
       "</table>\n",
       "<p>1 rows × 30 columns</p>\n",
       "</div>"
      ],
      "text/plain": [
       "            0             1               2          3                4   \\\n",
       "0  mean radius  mean texture  mean perimeter  mean area  mean smoothness   \n",
       "\n",
       "                 5               6                    7              8   \\\n",
       "0  mean compactness  mean concavity  mean concave points  mean symmetry   \n",
       "\n",
       "                       9   ...            20             21               22  \\\n",
       "0  mean fractal dimension  ...  worst radius  worst texture  worst perimeter   \n",
       "\n",
       "           23                24                 25               26  \\\n",
       "0  worst area  worst smoothness  worst compactness  worst concavity   \n",
       "\n",
       "                     27              28                       29  \n",
       "0  worst concave points  worst symmetry  worst fractal dimension  \n",
       "\n",
       "[1 rows x 30 columns]"
      ]
     },
     "execution_count": 57,
     "metadata": {},
     "output_type": "execute_result"
    }
   ],
   "source": [
    "#print(\"cancer.target(): \\n{}\".format(cancer.target))\n",
    "#print(\"cancer.data(): \\n{}\".format(cancer.data))\n",
    "print(\"cancer data shape: {}\".format(cancer.data.shape)) #569 records and 30 features\n",
    "print(\"cancer target shape: {}\".format(cancer.target.shape))\n",
    "#print(\"cancer feature_names: {}\".format(cancer.feature_names))\n",
    "pd.DataFrame(cancer.feature_names.reshape(1,30))"
   ]
  },
  {
   "cell_type": "code",
   "execution_count": 104,
   "id": "d169c9d4",
   "metadata": {},
   "outputs": [],
   "source": [
    "#print(\"DESCR: \\n {}\".format(cancer.DESCR))"
   ]
  },
  {
   "cell_type": "code",
   "execution_count": 59,
   "id": "efdb6519",
   "metadata": {},
   "outputs": [
    {
     "name": "stdout",
     "output_type": "stream",
     "text": [
      "target_names: \n",
      " ['malignant' 'benign']\n"
     ]
    }
   ],
   "source": [
    "print(\"target_names: \\n {}\".format(cancer.target_names))"
   ]
  },
  {
   "cell_type": "code",
   "execution_count": 60,
   "id": "c9ebc232",
   "metadata": {
    "scrolled": true
   },
   "outputs": [
    {
     "name": "stdout",
     "output_type": "stream",
     "text": [
      "Sample counts per class:\n",
      "{'malignant': 212, 'benign': 357}\n"
     ]
    }
   ],
   "source": [
    "print(\"Sample counts per class:\\n{}\".format(\n",
    " {n: v for n, v in zip(cancer.target_names, np.bincount(cancer.target))}))"
   ]
  },
  {
   "cell_type": "code",
   "execution_count": 105,
   "id": "d55223e6",
   "metadata": {},
   "outputs": [
    {
     "data": {
      "text/plain": [
       "<matplotlib.legend.Legend at 0x180b7b711f0>"
      ]
     },
     "execution_count": 105,
     "metadata": {},
     "output_type": "execute_result"
    },
    {
     "data": {
      "image/png": "[encoded data removed]",
      "text/plain": [
       "<Figure size 432x288 with 1 Axes>"
      ]
     },
     "metadata": {
      "needs_background": "light"
     },
     "output_type": "display_data"
    }
   ],
   "source": [
    "X_train, X_test, y_train, y_test = train_test_split(\n",
    "cancer.data, cancer.target,stratify=cancer.target, random_state=66\n",
    ")\n",
    "training_accuracy = []\n",
    "test_accuracy = []\n",
    "neighbors_settings = range(1, 11)\n",
    "for n_neighbors in neighbors_settings:\n",
    " # build the model\n",
    " clf = KNeighborsClassifier(n_neighbors=n_neighbors)\n",
    " clf.fit(X_train, y_train)\n",
    " # record training set accuracy\n",
    " training_accuracy.append(clf.score(X_train, y_train))\n",
    " # record generalization accuracy\n",
    " test_accuracy.append(clf.score(X_test, y_test))\n",
    "plt.plot(neighbors_settings, training_accuracy, label=\"training accuracy\")\n",
    "plt.plot(neighbors_settings, test_accuracy, label=\"test accuracy\")\n",
    "plt.ylabel(\"Accuracy\")\n",
    "plt.xlabel(\"n_neighbors\")\n",
    "plt.legend()"
   ]
  },
  {
   "cell_type": "markdown",
   "id": "ab944f81",
   "metadata": {},
   "source": [
    "![purple-divider](https://user-images.githubusercontent.com/7065401/52071927-c1cd7100-2562-11e9-908a-dde91ba14e59.png)"
   ]
  },
  {
   "cell_type": "markdown",
   "id": "429e449f",
   "metadata": {},
   "source": [
    "## example 4"
   ]
  },
  {
   "cell_type": "code",
   "execution_count": 61,
   "id": "8d057c96",
   "metadata": {},
   "outputs": [
    {
     "name": "stdout",
     "output_type": "stream",
     "text": [
      "Keys: dict_keys(['data', 'target', 'feature_names', 'DESCR', 'filename'])\n",
      "Data shape: (506, 13)\n",
      "target shape: (506,)\n",
      "feature_names shape: (13,)\n",
      "feature_names:\n"
     ]
    },
    {
     "data": {
      "text/html": [
       "<div>\n",
       "<style scoped>\n",
       "    .dataframe tbody tr th:only-of-type {\n",
       "        vertical-align: middle;\n",
       "    }\n",
       "\n",
       "    .dataframe tbody tr th {\n",
       "        vertical-align: top;\n",
       "    }\n",
       "\n",
       "    .dataframe thead th {\n",
       "        text-align: right;\n",
       "    }\n",
       "</style>\n",
       "<table border=\"1\" class=\"dataframe\">\n",
       "  <thead>\n",
       "    <tr style=\"text-align: right;\">\n",
       "      <th></th>\n",
       "      <th>0</th>\n",
       "      <th>1</th>\n",
       "      <th>2</th>\n",
       "      <th>3</th>\n",
       "      <th>4</th>\n",
       "      <th>5</th>\n",
       "      <th>6</th>\n",
       "      <th>7</th>\n",
       "      <th>8</th>\n",
       "      <th>9</th>\n",
       "      <th>10</th>\n",
       "      <th>11</th>\n",
       "      <th>12</th>\n",
       "    </tr>\n",
       "  </thead>\n",
       "  <tbody>\n",
       "    <tr>\n",
       "      <th>0</th>\n",
       "      <td>CRIM</td>\n",
       "      <td>ZN</td>\n",
       "      <td>INDUS</td>\n",
       "      <td>CHAS</td>\n",
       "      <td>NOX</td>\n",
       "      <td>RM</td>\n",
       "      <td>AGE</td>\n",
       "      <td>DIS</td>\n",
       "      <td>RAD</td>\n",
       "      <td>TAX</td>\n",
       "      <td>PTRATIO</td>\n",
       "      <td>B</td>\n",
       "      <td>LSTAT</td>\n",
       "    </tr>\n",
       "  </tbody>\n",
       "</table>\n",
       "</div>"
      ],
      "text/plain": [
       "     0   1      2     3    4   5    6    7    8    9        10 11     12\n",
       "0  CRIM  ZN  INDUS  CHAS  NOX  RM  AGE  DIS  RAD  TAX  PTRATIO  B  LSTAT"
      ]
     },
     "execution_count": 61,
     "metadata": {},
     "output_type": "execute_result"
    }
   ],
   "source": [
    "from sklearn.datasets import load_boston\n",
    "boston = load_boston()\n",
    "print(\"Keys: {}\".format(boston.keys()))\n",
    "print(\"Data shape: {}\".format(boston.data.shape))\n",
    "print(\"target shape: {}\".format(boston.target.shape))\n",
    "print(\"feature_names shape: {}\".format(boston.feature_names.shape))\n",
    "print(\"feature_names:\")\n",
    "pd.DataFrame(boston.feature_names.reshape(1,13))"
   ]
  },
  {
   "cell_type": "code",
   "execution_count": 62,
   "id": "c516575c",
   "metadata": {
    "scrolled": true
   },
   "outputs": [
    {
     "name": "stdout",
     "output_type": "stream",
     "text": [
      "X.shape: (506, 104)\n",
      "y.shape: (506,)\n"
     ]
    }
   ],
   "source": [
    "X, y = mglearn.datasets.load_extended_boston() #X: datapoint, y: targer value\n",
    "print(\"X.shape: {}\".format(X.shape))\n",
    "print(\"y.shape: {}\".format(y.shape))"
   ]
  },
  {
   "cell_type": "code",
   "execution_count": 72,
   "id": "24024bcf",
   "metadata": {
    "scrolled": false
   },
   "outputs": [
    {
     "name": "stderr",
     "output_type": "stream",
     "text": [
      "C:\\Users\\hoang\\anaconda3\\lib\\site-packages\\sklearn\\utils\\deprecation.py:86: FutureWarning: Function make_blobs is deprecated; Please import make_blobs directly from scikit-learn\n",
      "  warnings.warn(msg, category=FutureWarning)\n"
     ]
    },
    {
     "data": {
      "image/png": "[encoded data removed]",
      "text/plain": [
       "<Figure size 432x288 with 1 Axes>"
      ]
     },
     "metadata": {
      "needs_background": "light"
     },
     "output_type": "display_data"
    }
   ],
   "source": [
    "mglearn.plots.plot_knn_classification(n_neighbors=5)"
   ]
  },
  {
   "cell_type": "code",
   "execution_count": 103,
   "id": "15a20a8c",
   "metadata": {
    "scrolled": true
   },
   "outputs": [
    {
     "name": "stdout",
     "output_type": "stream",
     "text": [
      "X: (26, 2)\n",
      "y: (26,)\n"
     ]
    },
    {
     "name": "stderr",
     "output_type": "stream",
     "text": [
      "C:\\Users\\hoang\\anaconda3\\lib\\site-packages\\sklearn\\utils\\deprecation.py:86: FutureWarning: Function make_blobs is deprecated; Please import make_blobs directly from scikit-learn\n",
      "  warnings.warn(msg, category=FutureWarning)\n"
     ]
    }
   ],
   "source": [
    "from sklearn.model_selection import train_test_split #đã có ở chapter trước:vvvv\n",
    "X, y = mglearn.datasets.make_forge()\n",
    "print(\"X: {}\".format(X.shape))\n",
    "print(\"y: {}\".format(y.shape))\n",
    "X_train, X_test, y_train, y_test = train_test_split(X, y, random_state=0) #X: data, y: target"
   ]
  },
  {
   "cell_type": "code",
   "execution_count": 78,
   "id": "79861583",
   "metadata": {
    "scrolled": true
   },
   "outputs": [
    {
     "name": "stdout",
     "output_type": "stream",
     "text": [
      "Test set predictions: [1 0 1 0 1 0 0]\n",
      "Test set accuracy: 0.86\n"
     ]
    }
   ],
   "source": [
    "from sklearn.neighbors import KNeighborsClassifier\n",
    "clf = KNeighborsClassifier(n_neighbors=3)\n",
    "clf.fit(X_train, y_train)\n",
    "print(\"Test set predictions: {}\".format(clf.predict(X_test)))\n",
    "print(\"Test set accuracy: {:.2f}\".format(clf.score(X_test, y_test)))"
   ]
  },
  {
   "cell_type": "code",
   "execution_count": 101,
   "id": "42ce40ca",
   "metadata": {},
   "outputs": [
    {
     "name": "stdout",
     "output_type": "stream",
     "text": [
      "[<AxesSubplot:> <AxesSubplot:> <AxesSubplot:>]\n"
     ]
    },
    {
     "data": {
      "text/plain": [
       "array([<AxesSubplot:title={'center':'1 neighbor(s)'}, xlabel='feature 0', ylabel='feature 1'>,\n",
       "       <AxesSubplot:title={'center':'3 neighbor(s)'}, xlabel='feature 0', ylabel='feature 1'>,\n",
       "       <AxesSubplot:title={'center':'9 neighbor(s)'}, xlabel='feature 0', ylabel='feature 1'>],\n",
       "      dtype=object)"
      ]
     },
     "execution_count": 101,
     "metadata": {},
     "output_type": "execute_result"
    },
    {
     "data": {
      "image/png": "[encoded data removed]",
      "text/plain": [
       "<Figure size 1440x360 with 3 Axes>"
      ]
     },
     "metadata": {},
     "output_type": "display_data"
    }
   ],
   "source": [
    "fig, axes= plt.subplots(1,3,figsize=(20,5)) #1,3: Number of rows/columns of the subplot grid.\n",
    "print(axes) #trục\n",
    "for n_neighbors, ax in zip([1, 3, 9], axes):\n",
    "     # the fit method returns the object self, so we can instantiate\n",
    "     # and fit in one line\n",
    "     clf = KNeighborsClassifier(n_neighbors=n_neighbors).fit(X, y)\n",
    "     mglearn.plots.plot_2d_separator(clf, X, fill=True, eps=0.5, ax=ax, alpha=.4)\n",
    "     mglearn.discrete_scatter(X[:, 0], X[:, 1], y, ax=ax)\n",
    "     ax.set_title(\"{} neighbor(s)\".format(n_neighbors))\n",
    "     ax.set_xlabel(\"feature 0\")\n",
    "     ax.set_ylabel(\"feature 1\")\n",
    "axes[0].legend(loc=3)\n",
    "axes\n"
   ]
  },
  {
   "cell_type": "markdown",
   "id": "0a9634d7",
   "metadata": {},
   "source": [
    "## example 4"
   ]
  },
  {
   "cell_type": "code",
   "execution_count": 65,
   "id": "e47a7111",
   "metadata": {},
   "outputs": [
    {
     "name": "stdout",
     "output_type": "stream",
     "text": [
      "x: [[ 6.63075757 -7.24964493]\n",
      " [ 0.60082797 -3.37865154]\n",
      " [ 6.99677357 -8.24556438]\n",
      " [ 1.5781542   1.7595585 ]\n",
      " [ 6.04454261 -6.77817739]\n",
      " [-1.10879319 -5.1616075 ]\n",
      " [ 6.14217196 -6.90860783]\n",
      " [ 7.73979578 -6.72551024]\n",
      " [ 0.54470842  1.23995116]\n",
      " [ 5.69129362 -8.16282885]\n",
      " [ 0.31287443 -4.48860006]\n",
      " [ 5.63391981 -6.11748908]\n",
      " [ 0.15796088  0.47188471]\n",
      " [ 0.53419716 -5.30700759]\n",
      " [-1.47527219 -4.56857298]\n",
      " [ 0.03882998 -4.71686574]\n",
      " [-0.6716081   0.21124477]\n",
      " [-1.89021482 -4.48873506]\n",
      " [ 0.07347422 -7.38519318]\n",
      " [ 4.82822617 -7.88073419]\n",
      " [-0.2614402  -4.58641111]\n",
      " [ 0.07076074 -0.04037413]\n",
      " [-0.48542839 -6.33245065]\n",
      " [ 0.40345472 -6.0139406 ]\n",
      " [ 0.09189402  0.08366062]\n",
      " [ 0.27513469 -5.61941223]\n",
      " [ 2.28746009  0.46423485]\n",
      " [ 0.8420749   1.45664492]\n",
      " [ 0.24809318  1.41578962]\n",
      " [ 0.74575362  0.14707518]\n",
      " [ 1.2014334  -5.94035808]\n",
      " [ 6.56151051 -4.96015491]\n",
      " [-0.24218156 -4.07544028]\n",
      " [-0.52477599 -4.46815911]\n",
      " [ 5.0090819  -8.02093578]\n",
      " [ 5.57022929 -7.14691564]\n",
      " [ 6.28987881 -6.82612378]\n",
      " [ 1.63029113 -4.84464778]\n",
      " [ 0.28400345  0.27691061]\n",
      " [ 5.02439848 -7.6803962 ]\n",
      " [-0.11303351 -0.18866988]\n",
      " [ 0.6988343  -4.3081307 ]\n",
      " [-0.47529797 -4.08270321]\n",
      " [ 6.17104479 -7.92716312]\n",
      " [ 4.38365227 -6.79507177]\n",
      " [ 1.28253419  1.64579774]\n",
      " [ 1.2721541   0.67541024]\n",
      " [ 0.48078788  0.29969458]\n",
      " [ 6.06551498 -5.60186517]\n",
      " [ 6.45971356 -7.12259778]\n",
      " [ 1.34780014  0.24612732]\n",
      " [ 0.93668293  0.82497691]\n",
      " [ 4.02951694 -6.96119877]\n",
      " [ 5.64469734 -7.03234323]\n",
      " [ 1.97749611  0.20929104]\n",
      " [-0.45819355 -6.01565602]\n",
      " [-0.58096819 -6.31485927]\n",
      " [ 0.29318818  1.90676308]\n",
      " [ 0.45778371  1.18119958]\n",
      " [-0.36020084 -1.67657478]\n",
      " [ 1.10276921 -0.55875729]\n",
      " [-0.18190058  1.34170542]\n",
      " [ 4.89223608 -9.41810211]\n",
      " [-1.80126122 -0.17123052]\n",
      " [-1.52380902  2.07259449]\n",
      " [ 6.27845025 -5.62655242]\n",
      " [ 5.44862706 -7.37640961]\n",
      " [-0.71911991 -4.88470588]\n",
      " [ 7.4506146  -6.51967691]\n",
      " [-1.02282474  1.97709884]\n",
      " [ 6.28607146 -6.97713413]\n",
      " [ 8.04866784 -6.89542076]\n",
      " [-0.85376908  2.54623386]\n",
      " [ 0.03180922 -7.26760424]\n",
      " [ 6.23544613 -7.50143368]\n",
      " [-0.78179287  0.51097336]\n",
      " [-0.29900632 -4.15590547]\n",
      " [-0.04913643 -6.72485369]\n",
      " [ 6.89701617 -7.63454173]\n",
      " [ 7.23283571 -8.62424329]\n",
      " [ 5.55095045 -7.48743996]\n",
      " [ 0.03065384 -4.98068574]\n",
      " [ 5.89932284 -6.12082143]\n",
      " [ 2.198931    1.99887753]\n",
      " [ 6.13422055 -5.59822705]\n",
      " [-0.09131116  1.54607239]\n",
      " [-1.20925763  0.74307506]\n",
      " [-1.6708798   2.07553683]\n",
      " [ 0.52596302 -0.40959355]\n",
      " [ 0.39803697 -4.63574154]\n",
      " [ 3.03212235  2.56042965]\n",
      " [-0.46230734 -5.60183271]\n",
      " [ 1.24884131 -4.63528236]\n",
      " [ 0.98168455 -4.20924198]\n",
      " [ 5.69006414 -6.03329459]\n",
      " [-0.63465759 -4.37697204]\n",
      " [ 7.09833862 -6.88968597]\n",
      " [ 0.13656729 -5.00038679]\n",
      " [ 0.91929335 -5.4738542 ]\n",
      " [ 1.09372449  2.12199732]]\n"
     ]
    }
   ],
   "source": [
    "X,y = make_blobs()\n",
    "\n",
    "print(\"x: {}\".format(X))"
   ]
  },
  {
   "cell_type": "code",
   "execution_count": 66,
   "id": "6e71fa7b",
   "metadata": {},
   "outputs": [
    {
     "name": "stdout",
     "output_type": "stream",
     "text": [
      "y: [2 1 2 0 2 1 2 2 0 2 1 2 0 1 1 1 0 1 1 2 1 0 1 1 0 1 0 0 0 0 1 2 1 1 2 2 2\n",
      " 1 0 2 0 1 1 2 2 0 0 0 2 2 0 0 2 2 0 1 1 0 0 1 0 0 2 0 0 2 2 1 2 0 2 2 0 1\n",
      " 2 0 1 1 2 2 2 1 2 0 2 0 0 0 0 1 0 1 1 1 2 1 2 1 1 0]\n"
     ]
    }
   ],
   "source": [
    "print(\"y: {}\".format(y))"
   ]
  },
  {
   "cell_type": "code",
   "execution_count": 67,
   "id": "b440ab27",
   "metadata": {},
   "outputs": [],
   "source": [
    "#plot dataset"
   ]
  },
  {
   "cell_type": "code",
   "execution_count": 68,
   "id": "f29893f5",
   "metadata": {},
   "outputs": [
    {
     "data": {
      "text/plain": [
       "[<matplotlib.lines.Line2D at 0x180b423a670>,\n",
       " <matplotlib.lines.Line2D at 0x180b423a9a0>,\n",
       " <matplotlib.lines.Line2D at 0x180b423acd0>]"
      ]
     },
     "execution_count": 68,
     "metadata": {},
     "output_type": "execute_result"
    },
    {
     "data": {
      "image/png": "[encoded data removed]",
      "text/plain": [
       "<Figure size 432x288 with 1 Axes>"
      ]
     },
     "metadata": {
      "needs_background": "light"
     },
     "output_type": "display_data"
    }
   ],
   "source": [
    "mglearn.discrete_scatter(X[:, 0], X[:, 1], y)"
   ]
  },
  {
   "cell_type": "code",
   "execution_count": 69,
   "id": "5b926e57",
   "metadata": {},
   "outputs": [
    {
     "name": "stdout",
     "output_type": "stream",
     "text": [
      "X.shape: (100, 2)\n"
     ]
    },
    {
     "data": {
      "image/png": "[encoded data removed]",
      "text/plain": [
       "<Figure size 432x288 with 1 Axes>"
      ]
     },
     "metadata": {
      "needs_background": "light"
     },
     "output_type": "display_data"
    }
   ],
   "source": [
    "plt.legend([\"Class 0\", \"Class 1\"], loc=4)\n",
    "plt.xlabel(\"First feature\")\n",
    "plt.ylabel(\"Second feature\")\n",
    "print(\"X.shape: {}\".format(X.shape))"
   ]
  },
  {
   "cell_type": "code",
   "execution_count": null,
   "id": "718864d6",
   "metadata": {},
   "outputs": [],
   "source": []
  },
  {
   "cell_type": "code",
   "execution_count": null,
   "id": "969b0149",
   "metadata": {},
   "outputs": [],
   "source": []
  },
  {
   "cell_type": "code",
   "execution_count": 70,
   "id": "bdcc25a7",
   "metadata": {},
   "outputs": [
    {
     "data": {
      "text/plain": [
       "Text(0, 0.5, 'Target')"
      ]
     },
     "execution_count": 70,
     "metadata": {},
     "output_type": "execute_result"
    },
    {
     "data": {
      "image/png": "[encoded data removed]",
      "text/plain": [
       "<Figure size 432x288 with 1 Axes>"
      ]
     },
     "metadata": {
      "needs_background": "light"
     },
     "output_type": "display_data"
    }
   ],
   "source": [
    "X, y = mglearn.datasets.make_wave(n_samples=40)\n",
    "plt.plot(X, y, 'o')\n",
    "plt.ylim(-3, 3)\n",
    "plt.xlabel(\"Feature\")\n",
    "plt.ylabel(\"Target\")"
   ]
  }
 ],
 "metadata": {
  "kernelspec": {
   "display_name": "Python 3",
   "language": "python",
   "name": "python3"
  },
  "language_info": {
   "codemirror_mode": {
    "name": "ipython",
    "version": 3
   },
   "file_extension": ".py",
   "mimetype": "text/x-python",
   "name": "python",
   "nbconvert_exporter": "python",
   "pygments_lexer": "ipython3",
   "version": "3.8.8"
  }
 },
 "nbformat": 4,
 "nbformat_minor": 5
}
