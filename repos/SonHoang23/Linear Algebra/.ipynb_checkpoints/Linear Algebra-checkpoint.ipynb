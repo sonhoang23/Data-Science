{
 "cells": [
  {
   "cell_type": "markdown",
   "id": "beda2b41",
   "metadata": {},
   "source": [
    "# 1. Đại Số Tuyến Tính (Linear Algebra)"
   ]
  },
  {
   "cell_type": "code",
   "execution_count": 2,
   "id": "5e96cfd2",
   "metadata": {},
   "outputs": [],
   "source": [
    "import torch\n",
    "import numpy as np"
   ]
  },
  {
   "cell_type": "markdown",
   "id": "cbea767b",
   "metadata": {},
   "source": [
    "## 1.1 Số Vô Hướng (Scalar)"
   ]
  },
  {
   "cell_type": "markdown",
   "id": "80e703e7",
   "metadata": {},
   "source": [
    "Số vô hướng là là một con số cụ thể như điểm thi đại học, như giá cục tẩy\n",
    "khác với biến thì biến có thể nhận nhiều giá trị còn vô hướng thì không"
   ]
  },
  {
   "cell_type": "code",
   "execution_count": 9,
   "id": "b893ab85",
   "metadata": {},
   "outputs": [],
   "source": [
    "numpy_scalar= np.array(20)\n",
    "torch_scalar= torch.tensor(20)"
   ]
  },
  {
   "cell_type": "markdown",
   "id": "e94a4ea4",
   "metadata": {},
   "source": [
    "## 1.2 Vector"
   ]
  },
  {
   "cell_type": "markdown",
   "id": "50fc7033",
   "metadata": {},
   "source": [
    "### 1.2.1 Định nghĩa:"
   ]
  },
  {
   "cell_type": "markdown",
   "id": "cd96b6b4",
   "metadata": {},
   "source": [
    "- là  khái niệm cơ bản trong toán học\n",
    "- coi vector là tập hợp nhiều giá trị vô hướng\n",
    "- độ dài vector bằng số phần từ trong nó"
   ]
  },
  {
   "cell_type": "code",
   "execution_count": 13,
   "id": "d82caa2b",
   "metadata": {},
   "outputs": [],
   "source": [
    "numpy_vector= np.array([20, 10, 2, 5])\n",
    "torch_vector= torch.tensor([20, 10, 2, 5])\n",
    "numpy_vector?"
   ]
  },
  {
   "cell_type": "markdown",
   "id": "9fb1772b",
   "metadata": {},
   "source": [
    "### 1.2.2 Thuộc tính của Vector: _độ dài_, _định dạng_, _tổng_, _trung bình các phần tử_, _giá trị nhỏ nhất_, _giá trị lớn nhất_"
   ]
  },
  {
   "cell_type": "markdown",
   "id": "15dc642e",
   "metadata": {},
   "source": [
    "- Độ dài\n",
    "- Định dạng\n",
    "- Tổng các phần tử\n",
    "- trung bình các phần tử\n",
    "- giả trị nhỏ nhất các phần tử\n",
    "- giá trị lớn nhất\n",
    "- Độ lệch chuẩn"
   ]
  },
  {
   "cell_type": "code",
   "execution_count": 36,
   "id": "6cce1bfc",
   "metadata": {},
   "outputs": [
    {
     "name": "stdout",
     "output_type": "stream",
     "text": [
      "length of numpy_vector:  (4,)\n",
      "numpy_vector type:  int32\n",
      "sum of numpy_vector:  37\n",
      "mean of numpy_vector:  9.25\n",
      "min of numpy_vector:  2\n",
      "max of numpy_vector:  20\n",
      "max of numpy_vector:  6.832825184358224\n"
     ]
    }
   ],
   "source": [
    "# Độ dài\n",
    "print(\"length of numpy_vector: \", numpy_vector.shape) # or len(x)\n",
    "# Định dạng của véc tơ\n",
    "print(\"numpy_vector type: \", numpy_vector.dtype)\n",
    "# Tổng của các phần tử \n",
    "print(\"sum of numpy_vector: \", numpy_vector.sum())\n",
    "# Trung bình các phần tử\n",
    "print(\"mean of numpy_vector: \", numpy_vector.mean())\n",
    "# Giá trị nhỏ nhất\n",
    "print(\"min of numpy_vector: \", numpy_vector.min())\n",
    "# Giá trị lớn nhất\n",
    "print(\"max of numpy_vector: \", numpy_vector.max())\n",
    "# Độ Lệch chuẩn\n",
    "print(\"max of numpy_vector: \", np.std(numpy_vector))"
   ]
  },
  {
   "cell_type": "markdown",
   "id": "0d36949c",
   "metadata": {},
   "source": [
    "### 1.2.3 Các phép tính trên vector"
   ]
  },
  {
   "cell_type": "markdown",
   "id": "07aed2af",
   "metadata": {},
   "source": [
    "- có thể thực hiện các phép tính cộng trừ, tích vô hướng, tích có hướng giữa 2 vector cùng độ dài\n",
    "- các véc tơ sẽ được ký hiệu là một ký tự chữ thường in đậm như **x**,**y**,**z**. Ngoài ra x$\\in$ $\\mathbb{R}^n$ là véc tơ số thực có độ dài n."
   ]
  },
  {
   "cell_type": "code",
   "execution_count": 37,
   "id": "e3f5b88c",
   "metadata": {
    "scrolled": true
   },
   "outputs": [
    {
     "name": "stdout",
     "output_type": "stream",
     "text": [
      "x + y:  [ 3 13 11 11 12]\n",
      "x - y:  [-1 -5 -1  7  4]\n",
      "x * y:  [ 2 36 30 18 32]\n"
     ]
    }
   ],
   "source": [
    "x= np.array([1,4,5,9,8])\n",
    "y= np.array([2,9,6,2,4])\n",
    "print(\"x + y: \", x + y)\n",
    "print(\"x - y: \", x - y)\n",
    "print(\"x * y: \", x * y)"
   ]
  },
  {
   "cell_type": "markdown",
   "id": "383c5882",
   "metadata": {},
   "source": [
    "- vector thực hiện các phép tính với số vô hướng"
   ]
  },
  {
   "cell_type": "code",
   "execution_count": 38,
   "id": "92bb1988",
   "metadata": {
    "scrolled": true
   },
   "outputs": [
    {
     "name": "stdout",
     "output_type": "stream",
     "text": [
      "x + 6:  [ 7 10 11 15 14]\n",
      "x - 6:  [-5 -2 -1  3  2]\n",
      "x * 6:  [ 6 24 30 54 48]\n"
     ]
    }
   ],
   "source": [
    "print(\"x + 6: \", x + 6)\n",
    "print(\"x - 6: \", x - 6)\n",
    "print(\"x * 6: \", x * 6)"
   ]
  },
  {
   "cell_type": "markdown",
   "id": "b7ebe68c",
   "metadata": {},
   "source": [
    "## 1.3 Ma trận (Matrix)"
   ]
  },
  {
   "cell_type": "markdown",
   "id": "e42674f8",
   "metadata": {},
   "source": [
    "### 1.3.1 Định nghĩa"
   ]
  },
  {
   "cell_type": "markdown",
   "id": "be541ee9",
   "metadata": {},
   "source": [
    "biểu diễn cho nhiều biến thì cần đại lượng hai chiều của matrix\n",
    "$$\\begin{split}\\mathbf{A}=\\begin{bmatrix} \n",
    "a_{11} & a_{12} & \\cdots & a_{1n} \\\\ \n",
    "a_{21} & a_{22} & \\cdots & a_{2n} \\\\ \n",
    "\\vdots & \\vdots & \\ddots & \\vdots \\\\ \n",
    "a_{m1} & a_{m2} & \\cdots & a_{mn} \\\\ \n",
    "\\end{bmatrix}.\\end{split}$$ \n",
    "Với $\\mathbf{A} \\in \\mathbb{R}^{m \\times n}$ và $A_{i}$ vector hàng i; $A_{j}$ vector cột j\n",
    "\n"
   ]
  },
  {
   "cell_type": "markdown",
   "id": "b2c2f131",
   "metadata": {},
   "source": [
    "### 1.3.2 Các loại ma trận đặc biệt"
   ]
  },
  {
   "cell_type": "markdown",
   "id": "47a777a7",
   "metadata": {},
   "source": [
    "#### Ma trận vuông\n",
    "- là ma trận có số hàng = số cột\n",
    "- ma trân vuông quan trọng vì khi tìm nghiệm cho hệ phương trình, ma trận vuông có thể chuyển sang ma trận tam giác\n",
    "- matrix vuông cũng là matrix tính được định thức\n",
    "- $\\mathbf{A} \\in \\mathbb{R}^{m \\times n}$ và $m=n$"
   ]
  },
  {
   "cell_type": "markdown",
   "id": "b867f57f",
   "metadata": {},
   "source": [
    "#### Ma trận đơn vị\n",
    "- là matrix có các **phần tử đường chéo chính** =1 và **các phần tử còn lại** =0\n",
    "- $$\\begin{split}\\mathbf{A}=\\begin{bmatrix} \n",
    "1 & 0 & \\cdots & 0 \\\\ \n",
    "0 & 1 & \\cdots & 0 \\\\ \n",
    "\\vdots & \\vdots & \\ddots & \\vdots \\\\ \n",
    "0 & 0 & \\cdots & 1 \\\\ \n",
    "\\end{bmatrix}.\\end{split}$$ \n",
    "\n",
    "=> A là matrix đơn vị khi $A_{ij}=1 $ với $i=j$ và $A_{ij}=0 $ với $i\\neq j$"
   ]
  },
  {
   "cell_type": "markdown",
   "id": "32b0e368",
   "metadata": {},
   "source": [
    "#### Ma trận đường chéo\n",
    "- là matrix có các phần tử trên đường chéo $\\neq 0$ và các phần tử còn lại $= 0$"
   ]
  },
  {
   "cell_type": "markdown",
   "id": "da53a3b8",
   "metadata": {},
   "source": [
    "#### Ma trận chuyển vị\n",
    "- matrix chuyển vị $\\mathbf{B}$ là matrix chuyển vị của $\\mathbf{A}$ nếu $b_{ij} = a_{ji}$ hay mọi dòng của $\\mathbf{A}$ là cột của matrix $\\mathbf{B}$\n",
    "$$\\begin{split}\\mathbf{A}=\n",
    "\\begin{bmatrix} \n",
    "1 & 2 & 3 \\\\ \n",
    "3 & 2 & 1\n",
    "\\end{bmatrix}\n",
    "\\end{split}, \\begin{split}\\mathbf{B}=\n",
    "\\begin{bmatrix} \n",
    "1 & 3 \\\\\n",
    "2 & 2 \\\\ \n",
    "3 & 1\\end{bmatrix}\n",
    "\\end{split}$$\n",
    "-Ký hiệu chuyển vị của ma trận $\\mathbf{A}$ là $\\mathbf{A}^{\\intercal}$"
   ]
  },
  {
   "cell_type": "markdown",
   "id": "92572e88",
   "metadata": {},
   "source": [
    "### Thuộc tính ma trận"
   ]
  },
  {
   "cell_type": "markdown",
   "id": "70a07d7c",
   "metadata": {},
   "source": [
    "### 1.3.3 Phép tính trên ma trận"
   ]
  },
  {
   "cell_type": "markdown",
   "id": "f6b60474",
   "metadata": {},
   "source": [
    "#### 1.3.3.1 Nhân 2 matrix (tích hadamard hoặc element-wise)\n",
    "$$\n",
    "\\begin{split}\\mathbf{A} \\odot \\mathbf{B} =\n",
    "\\begin{bmatrix}\n",
    "    a_{11}  b_{11} & a_{12}  b_{12} & \\dots  & a_{1n}  b_{1n} \\\\\n",
    "    a_{21}  b_{21} & a_{22}  b_{22} & \\dots  & a_{2n}  b_{2n} \\\\\n",
    "    \\vdots & \\vdots & \\ddots & \\vdots \\\\\n",
    "    a_{m1}  b_{m1} & a_{m2}  b_{m2} & \\dots  & a_{mn}  b_{mn}\n",
    "\\end{bmatrix}\\end{split}\n",
    "$$"
   ]
  },
  {
   "cell_type": "code",
   "execution_count": 39,
   "id": "e7a87c28",
   "metadata": {},
   "outputs": [
    {
     "data": {
      "text/plain": [
       "array([[2, 2, 6],\n",
       "       [3, 6, 0]])"
      ]
     },
     "execution_count": 39,
     "metadata": {},
     "output_type": "execute_result"
    }
   ],
   "source": [
    "A = np.array([[1, 2, 3], \n",
    "              [3, 2, 1]])\n",
    "\n",
    "B = np.array([[2, 1, 2], \n",
    "             [1, 3, 0]])\n",
    "A*B"
   ]
  },
  {
   "cell_type": "markdown",
   "id": "aefbc19e",
   "metadata": {},
   "source": [
    "- Phép công trừ trên matrix"
   ]
  },
  {
   "cell_type": "code",
   "execution_count": 41,
   "id": "cafb66ac",
   "metadata": {
    "scrolled": true
   },
   "outputs": [
    {
     "name": "stdout",
     "output_type": "stream",
     "text": [
      "A-B: \n",
      " [[-1  1  1]\n",
      " [ 2 -1  1]]\n",
      "A+B: \n",
      " [[3 3 5]\n",
      " [4 5 1]]\n"
     ]
    }
   ],
   "source": [
    "print(\"A-B: \\n\", A-B)\n",
    "print(\"A+B: \\n\", A+B)"
   ]
  },
  {
   "cell_type": "markdown",
   "id": "562d6b9e",
   "metadata": {},
   "source": [
    "**Tích thông thường**: Tích thông thường giữa hai ma trận $\\mathbf{A}$ có kích thước $m \\times n$ và $\\mathbf{B}$ có kích thước $n \\times p$ là một ma trận có kích thước $m \\times p$. Ma trận output $\\mathbf{C}$ có giá trị tại phần tử $c_{ij} = \\mathbf{A}^{(i)} \\mathbf{B}_{j}$ (dòng thứ $i$ của ma trận $\\mathbf{A}$ nhân với cột thứ $j$ của ma trận $\\mathbf{B}$).\n",
    "\n",
    "$$\n",
    "\\begin{split}\\mathbf{A}_{m \\times n} \\mathbf{B}_{n \\times p} =\n",
    "\\begin{bmatrix}\n",
    "    \\mathbf{A}^{(1)}  \\mathbf{B}_{1} & \\mathbf{A}^{(1)}  \\mathbf{B}_{2} & \\dots  & \\mathbf{A}^{(1)}  \\mathbf{B}_{p} \\\\\n",
    "    \\mathbf{A}^{(2)}  \\mathbf{B}_{1} & \\mathbf{A}^{(2)}  \\mathbf{B}_{2} & \\dots  & \\mathbf{A}^{(2)}  \\mathbf{B}_{p} \\\\\n",
    "    \\vdots & \\vdots & \\ddots & \\vdots \\\\\n",
    "    \\mathbf{A}^{(m)}  \\mathbf{B}_{1} & \\mathbf{A}^{(m)}  \\mathbf{B}_{2} & \\dots  & \\mathbf{A}^{(m)}  \\mathbf{B}_{p} \\\\\n",
    "\\end{bmatrix}\\end{split}_{m \\times p}\n",
    "$$"
   ]
  },
  {
   "cell_type": "code",
   "execution_count": 43,
   "id": "bb1afb59",
   "metadata": {},
   "outputs": [
    {
     "data": {
      "text/plain": [
       "array([[ 7, 10],\n",
       "       [ 9, 10]])"
      ]
     },
     "execution_count": 43,
     "metadata": {},
     "output_type": "execute_result"
    }
   ],
   "source": [
    "A = np.array([[1, 2, 3], \n",
    "              [3, 2, 1]])  #2*3\n",
    "\n",
    "B = np.array([[2, 1], \n",
    "              [1, 3],\n",
    "              [1, 1]]) #3*2\n",
    "\n",
    "A@B"
   ]
  },
  {
   "cell_type": "markdown",
   "id": "9403ac78",
   "metadata": {},
   "source": [
    "### 1.3.4 Truy cập thành phần\n",
    "\n",
    "| Cú pháp      | Mô tả |\n",
    "| ----------- | ----------- |\n",
    "| :n      | lấy n index đầu tiên từ [0, 1, ..., n-1]       |\n",
    "| -n:   | lấy n index cuối cùng từ [len-n, ..., len-1]        |\n",
    "| i:j   | lấy các index từ [i, i+1, ..., j-1]        |\n",
    "| ::2   | lấy các index chẵn liên tiếp [0, 2, 4 ..., int(len/2)*2]        |\n",
    "| ::k   | lấy các index cách đều và chia hết cho k một cách liên tiếp [0, k, 2k, ..., int(len/k)*k]        |\n",
    "| :   | lấy toàn bộ index        |\n"
   ]
  },
  {
   "cell_type": "code",
   "execution_count": 85,
   "id": "2434a8b2",
   "metadata": {
    "scrolled": true
   },
   "outputs": [
    {
     "name": "stdout",
     "output_type": "stream",
     "text": [
      "Lấy phần 2 dòng đầu và 2 cột đầu:  [[1 2]\n",
      " [3 2]]\n",
      "Lấy phần 2 dòng cuối và 2 cột cuối:  [[3 2]\n",
      " [4 2]]\n",
      "Truy cập véc tơ con từ dòng thứ 2 và 2 cột cuối cùng:  [[2 1]\n",
      " [2 2]]\n",
      "Truy cập ma trận có các dòng chẵn:  [[1 3 3]\n",
      " [5 2 2]]\n",
      "lấy các index cách đều và chia hết cho 3 một cách liên tiếp [[1 2 3]]\n",
      "lấy toàn bộ index:  [[1 2 3]\n",
      " [3 2 1]\n",
      " [4 2 2]]\n"
     ]
    }
   ],
   "source": [
    "A = np.array([[1, 2, 3], \n",
    "              [3, 2, 1],\n",
    "              [4, 2, 2]])\n",
    "B = np.array([[1, 3, 3], \n",
    "              [3, 3, 1],\n",
    "              [5, 2, 2]])\n",
    "# Lấy phần 2 dòng đầu và 2 cột đầu \n",
    "print(\"Lấy phần 2 dòng đầu và 2 cột đầu: \", A[:2,:2])\n",
    "print(\"Lấy phần 2 dòng cuối và 2 cột cuối: \", A[-2:,:2])\n",
    "print(\"Truy cập véc tơ con từ dòng thứ 2 và 2 cột cuối cùng: \", A[-2:,-2:])\n",
    "print(\"Truy cập ma trận có các dòng chẵn: \", B[::2, :]) # dòng chẵn ở đây là số thứ tự của dòng\n",
    "print(\"lấy các index cách đều và chia hết cho 3 một cách liên tiếp\", A[::3])\n",
    "print(\"lấy toàn bộ index: \", A[:])\n"
   ]
  },
  {
   "cell_type": "markdown",
   "id": "8b470348",
   "metadata": {},
   "source": [
    "## 1.4 Tensor\n",
    "- là một định dạng đặc biệt được nghĩ ra bởi Google\n",
    "- Nó tổng quát hơn so với ma trận vì có thể biểu diễn được các không gian với số chiều tuỳ ý\n",
    "- Chẳng hạn trong xử lý ảnh chúng ta có một bức ảnh với kích thước là W×H×C lần lượt W,H,C là chiều width, height và channels. Thông thường C=1 hoặc 3 tuỳ theo ảnh là ảnh xám hay ảnh màu. Trong huấn luyện mô hình phân loại ảnh thì các đầu vào được kết hợp theo mini-batch nên sẽ có thêm một chiều về batch_size. Do đó input có kích thước là N×W×H×C"
   ]
  },
  {
   "cell_type": "markdown",
   "id": "5cebccc0",
   "metadata": {},
   "source": [
    "### 1.4.1 Các thuộc tính của Tensor\n",
    "- Kích thước các chiều\n",
    "- Số lượng chiều\n",
    "- Định dạng dữ liệu"
   ]
  },
  {
   "cell_type": "code",
   "execution_count": 106,
   "id": "25773658",
   "metadata": {},
   "outputs": [],
   "source": [
    "A= torch.tensor?\n",
    "A.size?\n",
    "# torch.empty?\n",
    "#A.ndim?"
   ]
  },
  {
   "cell_type": "code",
   "execution_count": 110,
   "id": "4c33bd55",
   "metadata": {
    "scrolled": false
   },
   "outputs": [
    {
     "name": "stdout",
     "output_type": "stream",
     "text": [
      "Kích thước của A:  torch.Size([2, 4, 2, 4])\n",
      "Số chiều của A:  4\n",
      "Định dạng kiểu dữ liệu của A:  torch.int64\n"
     ]
    }
   ],
   "source": [
    "A = torch.tensor([[[[1, 2, 3, 9], \n",
    "                  [3, 2, 1, 9]],\n",
    "                  [[2, 1, 2, 9], \n",
    "                  [1, 3, 0, 9]],\n",
    "                  [[2, 1, 2, 9], \n",
    "                  [1, 3, 0, 9]],\n",
    "                  [[2, 1, 2, 9], \n",
    "                  [1, 3, 0, 9]],\n",
    "                 ],\n",
    "                 [[[1, 2, 3, 9], \n",
    "                  [3, 2, 1, 9]],\n",
    "                  [[2, 1, 2, 9], \n",
    "                  [1, 3, 0, 9]],\n",
    "                  [[2, 1, 2, 9], \n",
    "                  [1, 3, 0, 9]],\n",
    "                  [[2, 1, 2, 9], \n",
    "                  [1, 3, 0, 9]]]])\n",
    "print(\"Kích thước của A: \", A.size()) # =>EX=[x,y,z, ...] => EX.length: số chiều, cho các con số cho biết mỗi chiều có mấy phần tử\n",
    "print(\"Số chiều của A: \", A.ndim)\n",
    "print(\"Định dạng kiểu dữ liệu của A: \", A.dtype)\n",
    "# ví dụ trên có 4 chiều và chiều to ngoài cùng có 2 phần tử, tương ứng với bên trong"
   ]
  },
  {
   "cell_type": "markdown",
   "id": "146e588d",
   "metadata": {},
   "source": [
    "### 1.4.2 Các phép tính trên Tensor\n",
    "- Tích thông thường giữa 2 tensor\n",
    "- Tích Hadmard giữa 2 tensor\n",
    "- Cộng\n",
    "- Trừ"
   ]
  },
  {
   "cell_type": "markdown",
   "id": "be83d820",
   "metadata": {},
   "source": [
    "**Tích thông thường giữa 2 tensor:** Nếu Tensor $\\mathbf{A}$ có kích thước ${m \\times n \\times p}$ và $\\mathbf{B}$ có kích thước ${n \\times p \\times q}$ $\\Rightarrow$ tích giữa chúng có kích thước là ${m \\times n \\times q}$"
   ]
  },
  {
   "cell_type": "code",
   "execution_count": 126,
   "id": "072cf81c",
   "metadata": {
    "scrolled": true
   },
   "outputs": [
    {
     "data": {
      "text/plain": [
       "torch.Size([2, 3, 1])"
      ]
     },
     "execution_count": 126,
     "metadata": {},
     "output_type": "execute_result"
    }
   ],
   "source": [
    "A = torch.randn([4, 6, 5]) # Returns a tensor filled with random numbers\n",
    "B = torch.randn([4, 4, 6])\n",
    "\n",
    "A = torch.randn([2, 3, 4])\n",
    "B = torch.randn([2, 4, 1])\n",
    "A@B\n",
    "(A@B).size()"
   ]
  },
  {
   "cell_type": "markdown",
   "id": "28ebe3cf",
   "metadata": {},
   "source": [
    "Ngoài ra chúng ta có thể tính tích hadamard giữa 2 tensors A và B được ký hiệu bằng dấu * như sau:"
   ]
  },
  {
   "cell_type": "code",
   "execution_count": 131,
   "id": "6e1bac9c",
   "metadata": {
    "scrolled": true
   },
   "outputs": [
    {
     "data": {
      "text/plain": [
       "torch.Size([2, 3, 4])"
      ]
     },
     "execution_count": 131,
     "metadata": {},
     "output_type": "execute_result"
    }
   ],
   "source": [
    "A = torch.randn([2, 3, 4])\n",
    "B = torch.randn([2, 3, 4])\n",
    "\n",
    "# Tích hadamard giữa 2 tensor\n",
    "(A*B).size()\n",
    "# Phép cộng\n",
    "(A+B).size()\n",
    "# Phép trừ\n",
    "(A-B).size()"
   ]
  },
  {
   "cell_type": "markdown",
   "id": "d513f450",
   "metadata": {},
   "source": [
    "### 1.4.3 Truy cập các phần từ\n",
    "tương tự như của matrix"
   ]
  },
  {
   "cell_type": "markdown",
   "id": "f9c1d438",
   "metadata": {},
   "source": [
    "## 1.5 Tích giữa một ma trận với véc tơ"
   ]
  }
 ],
 "metadata": {
  "kernelspec": {
   "display_name": "Python 3",
   "language": "python",
   "name": "python3"
  },
  "language_info": {
   "codemirror_mode": {
    "name": "ipython",
    "version": 3
   },
   "file_extension": ".py",
   "mimetype": "text/x-python",
   "name": "python",
   "nbconvert_exporter": "python",
   "pygments_lexer": "ipython3",
   "version": "3.8.8"
  }
 },
 "nbformat": 4,
 "nbformat_minor": 5
}
