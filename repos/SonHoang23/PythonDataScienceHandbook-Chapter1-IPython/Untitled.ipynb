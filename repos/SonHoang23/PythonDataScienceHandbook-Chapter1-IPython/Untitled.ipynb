{
 "cells": [
  {
   "cell_type": "markdown",
   "id": "07894135",
   "metadata": {},
   "source": [
    "# IPYTHON"
   ]
  },
  {
   "cell_type": "code",
   "execution_count": 1,
   "id": "8c0891ce",
   "metadata": {},
   "outputs": [],
   "source": [
    "## "
   ]
  },
  {
   "cell_type": "code",
   "execution_count": 2,
   "id": "35d0732b",
   "metadata": {},
   "outputs": [
    {
     "name": "stdout",
     "output_type": "stream",
     "text": [
      "Help on built-in function len in module builtins:\n",
      "\n",
      "len(obj, /)\n",
      "    Return the number of items in a container.\n",
      "\n"
     ]
    }
   ],
   "source": [
    "help(len)"
   ]
  },
  {
   "cell_type": "code",
   "execution_count": 3,
   "id": "625e6349",
   "metadata": {},
   "outputs": [],
   "source": [
    "len?"
   ]
  },
  {
   "cell_type": "code",
   "execution_count": 4,
   "id": "dc10fab3",
   "metadata": {},
   "outputs": [],
   "source": [
    "l=[1,2,3]"
   ]
  },
  {
   "cell_type": "code",
   "execution_count": 5,
   "id": "359f7d1c",
   "metadata": {},
   "outputs": [],
   "source": [
    "l?"
   ]
  },
  {
   "cell_type": "code",
   "execution_count": 6,
   "id": "8c52b5f9",
   "metadata": {},
   "outputs": [],
   "source": [
    "l.insert?"
   ]
  },
  {
   "cell_type": "code",
   "execution_count": 7,
   "id": "924d5136",
   "metadata": {},
   "outputs": [],
   "source": [
    "a=2"
   ]
  },
  {
   "cell_type": "code",
   "execution_count": 8,
   "id": "ccefda41",
   "metadata": {},
   "outputs": [],
   "source": [
    "def square(a):\n",
    "    \"\"\"Return the square of a.\"\"\"\n",
    "    return a**2\n"
   ]
  },
  {
   "cell_type": "code",
   "execution_count": 9,
   "id": "666ac40c",
   "metadata": {},
   "outputs": [],
   "source": [
    "square??"
   ]
  },
  {
   "cell_type": "code",
   "execution_count": 10,
   "id": "e215d853",
   "metadata": {
    "scrolled": true
   },
   "outputs": [],
   "source": [
    "L = [1, 2, 3]"
   ]
  },
  {
   "cell_type": "code",
   "execution_count": 11,
   "id": "34717621",
   "metadata": {
    "scrolled": true
   },
   "outputs": [
    {
     "ename": "SyntaxError",
     "evalue": "invalid syntax (<ipython-input-11-4cf4f10edf52>, line 1)",
     "output_type": "error",
     "traceback": [
      "\u001b[1;36m  File \u001b[1;32m\"<ipython-input-11-4cf4f10edf52>\"\u001b[1;36m, line \u001b[1;32m1\u001b[0m\n\u001b[1;33m    import\u001b[0m\n\u001b[1;37m           ^\u001b[0m\n\u001b[1;31mSyntaxError\u001b[0m\u001b[1;31m:\u001b[0m invalid syntax\n"
     ]
    }
   ],
   "source": [
    "*SyntaxWarning"
   ]
  },
  {
   "cell_type": "code",
   "execution_count": 25,
   "id": "e49bcfbd",
   "metadata": {},
   "outputs": [],
   "source": [
    "%timeit?"
   ]
  },
  {
   "cell_type": "code",
   "execution_count": 26,
   "id": "9de54b6c",
   "metadata": {},
   "outputs": [],
   "source": [
    "%magic"
   ]
  },
  {
   "cell_type": "code",
   "execution_count": 27,
   "id": "9f9bb992",
   "metadata": {},
   "outputs": [],
   "source": [
    "import math"
   ]
  },
  {
   "cell_type": "code",
   "execution_count": 28,
   "id": "a097e663",
   "metadata": {
    "scrolled": false
   },
   "outputs": [
    {
     "data": {
      "text/plain": [
       "0.9092974268256817"
      ]
     },
     "execution_count": 28,
     "metadata": {},
     "output_type": "execute_result"
    }
   ],
   "source": [
    "math.sin(2)"
   ]
  },
  {
   "cell_type": "code",
   "execution_count": 29,
   "id": "84aa0d3f",
   "metadata": {
    "scrolled": true
   },
   "outputs": [
    {
     "name": "stdout",
     "output_type": "stream",
     "text": [
      "['', '## ', 'help(len)', \"get_ipython().run_line_magic('pinfo', 'len')\", 'l=[1,2,3]', \"get_ipython().run_line_magic('pinfo', 'l')\", \"get_ipython().run_line_magic('pinfo', 'l.insert')\", 'a=2', 'def square(a):\\n    \"\"\"Return the square of a.\"\"\"\\n    return a**2', \"get_ipython().run_line_magic('pinfo2', 'square')\", 'L = [1, 2, 3]', 'import ', \"(reverse-i-search)`':\", \"get_ipython().system('ls')\", \"get_ipython().run_line_magic('ls', '')\", \"get_ipython().run_line_magic('pwd', '')\", 'content=ls', \"content=get_ipython().getoutput('ls')\", 'print(content)', 'content=ls', 'print(content)', 'content=ls', \"content=get_ipython().getoutput('ls')\", 'print(content)', \"get_ipython().run_line_magic('ls', '')\", \"get_ipython().run_line_magic('pinfo', '%timeit')\", \"get_ipython().run_line_magic('magic', '')\", 'import math', 'math.sin(2)', 'print(In)']\n"
     ]
    }
   ],
   "source": [
    "print(In)"
   ]
  },
  {
   "cell_type": "code",
   "execution_count": 30,
   "id": "d351f29e",
   "metadata": {},
   "outputs": [
    {
     "data": {
      "text/plain": [
       "{15: 'D:\\\\develop\\\\Data Science\\\\data-science\\\\repos\\\\PythonDataScienceHandbook-Chapter1-IPython',\n",
       " 28: 0.9092974268256817}"
      ]
     },
     "execution_count": 30,
     "metadata": {},
     "output_type": "execute_result"
    }
   ],
   "source": [
    "Out"
   ]
  },
  {
   "cell_type": "code",
   "execution_count": 31,
   "id": "062d6dcc",
   "metadata": {},
   "outputs": [
    {
     "name": "stdout",
     "output_type": "stream",
     "text": [
      "0.9092974268256817\n"
     ]
    }
   ],
   "source": [
    "print(_)"
   ]
  },
  {
   "cell_type": "code",
   "execution_count": 24,
   "id": "6445957b",
   "metadata": {
    "scrolled": false
   },
   "outputs": [
    {
     "name": "stdout",
     "output_type": "stream",
     "text": [
      " Volume in drive D is New Volume\n",
      " Volume Serial Number is 364E-09F0\n",
      "\n",
      " Directory of D:\\develop\\Data Science\\data-science\\repos\\PythonDataScienceHandbook-Chapter1-IPython\n",
      "\n",
      "06/14/2021  04:45 PM    <DIR>          .\n",
      "06/14/2021  04:45 PM    <DIR>          ..\n",
      "06/14/2021  07:58 AM    <DIR>          .ipynb_checkpoints\n",
      "06/14/2021  04:45 PM             3,624 Untitled.ipynb\n",
      "               1 File(s)          3,624 bytes\n",
      "               3 Dir(s)  52,163,596,288 bytes free\n"
     ]
    }
   ],
   "source": [
    "ls"
   ]
  },
  {
   "cell_type": "code",
   "execution_count": 22,
   "id": "9cd3b2f7",
   "metadata": {},
   "outputs": [],
   "source": [
    "content=!ls"
   ]
  },
  {
   "cell_type": "code",
   "execution_count": 23,
   "id": "93efb55a",
   "metadata": {},
   "outputs": [
    {
     "name": "stdout",
     "output_type": "stream",
     "text": [
      "[\"'ls' is not recognized as an internal or external command,\", 'operable program or batch file.']\n"
     ]
    }
   ],
   "source": [
    "print(content)"
   ]
  }
 ],
 "metadata": {
  "kernelspec": {
   "display_name": "Python 3",
   "language": "python",
   "name": "python3"
  },
  "language_info": {
   "codemirror_mode": {
    "name": "ipython",
    "version": 3
   },
   "file_extension": ".py",
   "mimetype": "text/x-python",
   "name": "python",
   "nbconvert_exporter": "python",
   "pygments_lexer": "ipython3",
   "version": "3.8.8"
  }
 },
 "nbformat": 4,
 "nbformat_minor": 5
}
