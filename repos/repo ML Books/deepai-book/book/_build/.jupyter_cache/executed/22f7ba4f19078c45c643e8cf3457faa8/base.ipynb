{
 "cells": [
  {
   "cell_type": "code",
   "execution_count": 1,
   "id": "intelligent-attendance",
   "metadata": {},
   "outputs": [],
   "source": [
    "%%capture\n",
    "!rm -rf ../data/titanic; mkdir -p ../data/titanic\n",
    "!kaggle competitions download -c titanic -p ../data/titanic;\n",
    "!cd ../data/titanic; unzip titanic.zip; rm titanic.zip;"
   ]
  },
  {
   "cell_type": "code",
   "execution_count": 2,
   "id": "hungry-elements",
   "metadata": {},
   "outputs": [],
   "source": [
    "!ls ../data/titanic"
   ]
  },
  {
   "cell_type": "code",
   "execution_count": 3,
   "id": "specified-credits",
   "metadata": {
    "tags": [
     "hide-input"
    ]
   },
   "outputs": [],
   "source": [
    "%%capture\n",
    "!rm -rf ../data/rossmann; mkdir -p ../data/rossmann\n",
    "!kaggle competitions download -c rossmann-store-sales -p ../data/rossmann;\n",
    "!cd ../data/rossmann; unzip rossmann-store-sales.zip; rm rossmann-store-sales.zip;"
   ]
  },
  {
   "cell_type": "code",
   "execution_count": 4,
   "id": "isolated-lawsuit",
   "metadata": {
    "tags": [
     "hide-input"
    ]
   },
   "outputs": [],
   "source": [
    "%%capture\n",
    "!rm -rf ../data/sales; mkdir -p ../data/sales\n",
    "!kaggle competitions download -c competitive-data-science-predict-future-sales -p ../data/sales;\n",
    "!cd ../data/sales; unzip competitive-data-science-predict-future-sales.zip; rm competitive-data-science-predict-future-sales.zip"
   ]
  },
  {
   "cell_type": "code",
   "execution_count": 5,
   "id": "overhead-peter",
   "metadata": {},
   "outputs": [
    {
     "name": "stdout",
     "output_type": "stream",
     "text": [
      "cat: ../data/titanic/train.csv: No such file or directory\r\n"
     ]
    }
   ],
   "source": [
    "!cat ../data/titanic/train.csv | head -5"
   ]
  },
  {
   "cell_type": "code",
   "execution_count": 6,
   "id": "unique-violation",
   "metadata": {},
   "outputs": [
    {
     "name": "stdout",
     "output_type": "stream",
     "text": [
      "/bin/bash: csvlook: command not found\r\n"
     ]
    }
   ],
   "source": [
    "!csvlook ../data/titanic/train.csv | head -6 # one additional line as header/content spliter"
   ]
  }
 ],
 "metadata": {
  "jupytext": {
   "text_representation": {
    "extension": ".md",
    "format_name": "myst",
    "format_version": 0.12,
    "jupytext_version": "1.8.2"
   }
  },
  "kernelspec": {
   "display_name": "Python 3",
   "language": "python",
   "name": "python3"
  },
  "language_info": {
   "codemirror_mode": {
    "name": "ipython",
    "version": 3
   },
   "file_extension": ".py",
   "mimetype": "text/x-python",
   "name": "python",
   "nbconvert_exporter": "python",
   "pygments_lexer": "ipython3",
   "version": "3.6.9"
  },
  "source_map": [
   12,
   44,
   49,
   56,
   58,
   87,
   94,
   98,
   105,
   128,
   130,
   134,
   136
  ]
 },
 "nbformat": 4,
 "nbformat_minor": 5
}