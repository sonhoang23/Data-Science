{
 "cells": [
  {
   "cell_type": "code",
   "execution_count": 1,
   "id": "manufactured-senegal",
   "metadata": {
    "colab": {
     "base_uri": "https://localhost:8080/"
    },
    "executionInfo": {
     "elapsed": 878,
     "status": "ok",
     "timestamp": 1616396276580,
     "user": {
      "displayName": "khanhblog AI",
      "photoUrl": "https://lh3.googleusercontent.com/a-/AOh14GhNCi9Qnch9sWXSuvX4N5yijAGEjX1IvfmN-95m=s64",
      "userId": "06481533334230032014"
     },
     "user_tz": -420
    },
    "id": "GKCBPvw9t09W",
    "outputId": "52bfd40a-a916-4426-f0c9-21577347ee26"
   },
   "outputs": [
    {
     "name": "stdout",
     "output_type": "stream",
     "text": [
      "diện tích x = 50 --> giá nhà y = a*50+b =  tensor(1200)\n"
     ]
    }
   ],
   "source": [
    "import torch\n",
    "\n",
    "a = torch.tensor(20)\n",
    "b = torch.tensor(200)\n",
    "print(\"diện tích x = 50 --> giá nhà y = a*50+b = \", a*50+b)"
   ]
  },
  {
   "cell_type": "code",
   "execution_count": 2,
   "id": "found-romantic",
   "metadata": {
    "colab": {
     "base_uri": "https://localhost:8080/"
    },
    "executionInfo": {
     "elapsed": 1046,
     "status": "ok",
     "timestamp": 1616396770942,
     "user": {
      "displayName": "khanhblog AI",
      "photoUrl": "https://lh3.googleusercontent.com/a-/AOh14GhNCi9Qnch9sWXSuvX4N5yijAGEjX1IvfmN-95m=s64",
      "userId": "06481533334230032014"
     },
     "user_tz": -420
    },
    "id": "a6HgWue-wAJb",
    "outputId": "505edf02-ed13-4ef4-b281-b7146c757711"
   },
   "outputs": [
    {
     "data": {
      "text/plain": [
       "tensor([1.0000, 1.2000, 1.5000, 1.8000, 2.0000])"
      ]
     },
     "execution_count": 2,
     "metadata": {},
     "output_type": "execute_result"
    }
   ],
   "source": [
    "x = torch.tensor([1, 1.2, 1.5, 1.8, 2])\n",
    "x"
   ]
  },
  {
   "cell_type": "code",
   "execution_count": 3,
   "id": "hidden-roller",
   "metadata": {
    "colab": {
     "base_uri": "https://localhost:8080/"
    },
    "executionInfo": {
     "elapsed": 948,
     "status": "ok",
     "timestamp": 1616397623685,
     "user": {
      "displayName": "khanhblog AI",
      "photoUrl": "https://lh3.googleusercontent.com/a-/AOh14GhNCi9Qnch9sWXSuvX4N5yijAGEjX1IvfmN-95m=s64",
      "userId": "06481533334230032014"
     },
     "user_tz": -420
    },
    "id": "seicl1pMwT1N",
    "outputId": "02e6339b-f69f-488f-8b8e-a4096c0aced0"
   },
   "outputs": [
    {
     "name": "stdout",
     "output_type": "stream",
     "text": [
      "length of vector:  torch.Size([5])\n",
      "vector type:  torch.float32\n",
      "sum of vector:  tensor(7.5000)\n",
      "mean of vector:  tensor(1.5000)\n",
      "min of vector:  tensor(1.)\n",
      "max of vector:  tensor(2.)\n"
     ]
    }
   ],
   "source": [
    "# Độ dài\n",
    "print(\"length of vector: \", x.size()) # or len(x)\n",
    "\n",
    "# Định dạng của véc tơ\n",
    "print(\"vector type: \", x.dtype)\n",
    "\n",
    "# Tổng của các phần tử \n",
    "print(\"sum of vector: \", x.sum())\n",
    "\n",
    "# Trung bình các phần tử\n",
    "print(\"mean of vector: \", x.mean())\n",
    "\n",
    "# Giá trị nhỏ nhất\n",
    "print(\"min of vector: \", x.min())\n",
    "\n",
    "# Giá trị lớn nhất\n",
    "print(\"max of vector: \", x.max())"
   ]
  },
  {
   "cell_type": "code",
   "execution_count": 4,
   "id": "temporal-computer",
   "metadata": {
    "colab": {
     "base_uri": "https://localhost:8080/"
    },
    "executionInfo": {
     "elapsed": 934,
     "status": "ok",
     "timestamp": 1616397329647,
     "user": {
      "displayName": "khanhblog AI",
      "photoUrl": "https://lh3.googleusercontent.com/a-/AOh14GhNCi9Qnch9sWXSuvX4N5yijAGEjX1IvfmN-95m=s64",
      "userId": "06481533334230032014"
     },
     "user_tz": -420
    },
    "id": "m-RlaOQlxdq-",
    "outputId": "76be7202-df10-45f7-96c3-c2cea8f4d857"
   },
   "outputs": [
    {
     "name": "stdout",
     "output_type": "stream",
     "text": [
      "x + y:  tensor([2.1000, 4.2000, 2.7000, 3.4000, 3.6000])\n",
      "x - y:  tensor([-0.1000, -0.2000,  0.3000,  0.2000,  0.2000])\n",
      "x * y:  tensor([1.1000, 4.4000, 1.8000, 2.8800, 3.2300])\n"
     ]
    }
   ],
   "source": [
    "x = torch.tensor([1, 2, 1.5, 1.8, 1.9])\n",
    "y = torch.tensor([1.1, 2.2, 1.2, 1.6, 1.7])\n",
    "print(\"x + y: \", x + y)\n",
    "print(\"x - y: \", x - y)\n",
    "print(\"x * y: \", x * y)"
   ]
  },
  {
   "cell_type": "code",
   "execution_count": 5,
   "id": "british-round",
   "metadata": {
    "colab": {
     "base_uri": "https://localhost:8080/"
    },
    "executionInfo": {
     "elapsed": 891,
     "status": "ok",
     "timestamp": 1616397484193,
     "user": {
      "displayName": "khanhblog AI",
      "photoUrl": "https://lh3.googleusercontent.com/a-/AOh14GhNCi9Qnch9sWXSuvX4N5yijAGEjX1IvfmN-95m=s64",
      "userId": "06481533334230032014"
     },
     "user_tz": -420
    },
    "id": "2E51lUQdyuVk",
    "outputId": "0bf96f7f-8922-4212-ef21-091c38ff7e17"
   },
   "outputs": [
    {
     "name": "stdout",
     "output_type": "stream",
     "text": [
      "x + 5:  tensor([6.0000, 7.0000, 6.5000, 6.8000, 6.9000])\n",
      "x - 5:  tensor([-4.0000, -3.0000, -3.5000, -3.2000, -3.1000])\n",
      "x * 5:  tensor([ 5.0000, 10.0000,  7.5000,  9.0000,  9.5000])\n"
     ]
    }
   ],
   "source": [
    "x = torch.tensor([1, 2, 1.5, 1.8, 1.9])\n",
    "print(\"x + 5: \", x + 5)\n",
    "print(\"x - 5: \", x - 5)\n",
    "print(\"x * 5: \", x * 5)"
   ]
  },
  {
   "cell_type": "code",
   "execution_count": 6,
   "id": "bright-silver",
   "metadata": {
    "colab": {
     "base_uri": "https://localhost:8080/"
    },
    "executionInfo": {
     "elapsed": 897,
     "status": "ok",
     "timestamp": 1616404093886,
     "user": {
      "displayName": "khanhblog AI",
      "photoUrl": "https://lh3.googleusercontent.com/a-/AOh14GhNCi9Qnch9sWXSuvX4N5yijAGEjX1IvfmN-95m=s64",
      "userId": "06481533334230032014"
     },
     "user_tz": -420
    },
    "id": "6jhqne1BL76G",
    "outputId": "38c30390-e3b3-4da5-a5f5-0e8111ca33f4"
   },
   "outputs": [
    {
     "data": {
      "text/plain": [
       "torch.Size([2, 3])"
      ]
     },
     "execution_count": 6,
     "metadata": {},
     "output_type": "execute_result"
    }
   ],
   "source": [
    "import torch\n",
    "A = torch.tensor([[1, 2, 3], \n",
    "                  [3, 2, 1]])\n",
    "\n",
    "# shape của matrix A\n",
    "A.size()"
   ]
  },
  {
   "cell_type": "code",
   "execution_count": 7,
   "id": "elder-mortality",
   "metadata": {
    "id": "_QVpFXGUsbz8"
   },
   "outputs": [],
   "source": [
    "import torch\n",
    "\n",
    "X = torch.tensor([[100, 120, 80, 90, 105, 95], \n",
    "                  [2, 3, 2, 2, 3, 2]])"
   ]
  },
  {
   "cell_type": "code",
   "execution_count": 8,
   "id": "dutch-tongue",
   "metadata": {
    "colab": {
     "base_uri": "https://localhost:8080/"
    },
    "executionInfo": {
     "elapsed": 1108,
     "status": "ok",
     "timestamp": 1616412790596,
     "user": {
      "displayName": "khanhblog AI",
      "photoUrl": "https://lh3.googleusercontent.com/a-/AOh14GhNCi9Qnch9sWXSuvX4N5yijAGEjX1IvfmN-95m=s64",
      "userId": "06481533334230032014"
     },
     "user_tz": -420
    },
    "id": "GyxZxWB0rCQG",
    "outputId": "fd4bbaac-4d6c-44df-f1d1-30f6cf63ec09"
   },
   "outputs": [
    {
     "data": {
      "text/plain": [
       "tensor([[1200],\n",
       "        [1500],\n",
       "        [1000],\n",
       "        [1100],\n",
       "        [1350],\n",
       "        [1150]])"
      ]
     },
     "execution_count": 8,
     "metadata": {},
     "output_type": "execute_result"
    }
   ],
   "source": [
    "w = torch.tensor([[10], [100]])\n",
    "y = X.T@w\n",
    "y"
   ]
  },
  {
   "cell_type": "code",
   "execution_count": 9,
   "id": "headed-correction",
   "metadata": {
    "colab": {
     "base_uri": "https://localhost:8080/"
    },
    "executionInfo": {
     "elapsed": 991,
     "status": "ok",
     "timestamp": 1616410422897,
     "user": {
      "displayName": "khanhblog AI",
      "photoUrl": "https://lh3.googleusercontent.com/a-/AOh14GhNCi9Qnch9sWXSuvX4N5yijAGEjX1IvfmN-95m=s64",
      "userId": "06481533334230032014"
     },
     "user_tz": -420
    },
    "id": "EU81MT8qkTnL",
    "outputId": "cd3c7a18-7454-4579-eb71-ad8bdcb165cd"
   },
   "outputs": [
    {
     "data": {
      "text/plain": [
       "tensor(20)"
      ]
     },
     "execution_count": 9,
     "metadata": {},
     "output_type": "execute_result"
    }
   ],
   "source": [
    "import torch\n",
    "\n",
    "x = torch.tensor([1, 2, 3])\n",
    "y = torch.tensor([2, 3, 4])\n",
    "x.dot(y)"
   ]
  },
  {
   "cell_type": "code",
   "execution_count": 10,
   "id": "blank-enclosure",
   "metadata": {
    "colab": {
     "base_uri": "https://localhost:8080/"
    },
    "executionInfo": {
     "elapsed": 882,
     "status": "ok",
     "timestamp": 1616415387603,
     "user": {
      "displayName": "khanhblog AI",
      "photoUrl": "https://lh3.googleusercontent.com/a-/AOh14GhNCi9Qnch9sWXSuvX4N5yijAGEjX1IvfmN-95m=s64",
      "userId": "06481533334230032014"
     },
     "user_tz": -420
    },
    "id": "5KkWxDUZ3Cge",
    "outputId": "118b6123-cfa0-46ed-9ea5-239552f9b758"
   },
   "outputs": [
    {
     "data": {
      "text/plain": [
       "tensor(3.0255)"
      ]
     },
     "execution_count": 10,
     "metadata": {},
     "output_type": "execute_result"
    }
   ],
   "source": [
    "import torch\n",
    "x = torch.randn(10)\n",
    "torch.norm(x, p=2)"
   ]
  },
  {
   "cell_type": "code",
   "execution_count": 11,
   "id": "sustained-anxiety",
   "metadata": {
    "colab": {
     "base_uri": "https://localhost:8080/"
    },
    "executionInfo": {
     "elapsed": 1085,
     "status": "ok",
     "timestamp": 1616415498018,
     "user": {
      "displayName": "khanhblog AI",
      "photoUrl": "https://lh3.googleusercontent.com/a-/AOh14GhNCi9Qnch9sWXSuvX4N5yijAGEjX1IvfmN-95m=s64",
      "userId": "06481533334230032014"
     },
     "user_tz": -420
    },
    "id": "-M_nuOtG3ZFk",
    "outputId": "d8fe3a56-54b8-411b-bb25-b1603abd49c8"
   },
   "outputs": [
    {
     "name": "stdout",
     "output_type": "stream",
     "text": [
      "tensor(7.6342)\n"
     ]
    },
    {
     "data": {
      "text/plain": [
       "tensor(7.6342)"
      ]
     },
     "execution_count": 11,
     "metadata": {},
     "output_type": "execute_result"
    }
   ],
   "source": [
    "print(torch.norm(x, p=1))\n",
    "# hoặc \n",
    "torch.abs(x).sum()"
   ]
  },
  {
   "cell_type": "code",
   "execution_count": 12,
   "id": "quantitative-gamma",
   "metadata": {
    "colab": {
     "base_uri": "https://localhost:8080/"
    },
    "executionInfo": {
     "elapsed": 1061,
     "status": "ok",
     "timestamp": 1616415445101,
     "user": {
      "displayName": "khanhblog AI",
      "photoUrl": "https://lh3.googleusercontent.com/a-/AOh14GhNCi9Qnch9sWXSuvX4N5yijAGEjX1IvfmN-95m=s64",
      "userId": "06481533334230032014"
     },
     "user_tz": -420
    },
    "id": "2HUCjk7n3fhO",
    "outputId": "701f61d6-1455-4ab4-8ccd-a51e9dadd3b0"
   },
   "outputs": [
    {
     "data": {
      "text/plain": [
       "tensor(3.9967)"
      ]
     },
     "execution_count": 12,
     "metadata": {},
     "output_type": "execute_result"
    }
   ],
   "source": [
    "# chuẩn p bất kỳ >= 1, chẳng hạn p=1.5\n",
    "torch.norm(x, p=1.5)"
   ]
  }
 ],
 "metadata": {
  "jupytext": {
   "text_representation": {
    "extension": ".md",
    "format_name": "myst",
    "format_version": 0.12,
    "jupytext_version": "1.8.2"
   }
  },
  "kernelspec": {
   "display_name": "Python 3",
   "name": "python3"
  },
  "language_info": {
   "codemirror_mode": {
    "name": "ipython",
    "version": 3
   },
   "file_extension": ".py",
   "mimetype": "text/x-python",
   "name": "python",
   "nbconvert_exporter": "python",
   "pygments_lexer": "ipython3",
   "version": "3.6.9"
  },
  "source_map": [
   13,
   17,
   25,
   48,
   52,
   58,
   78,
   84,
   119,
   125,
   148,
   152,
   174,
   184,
   231,
   237,
   261,
   737,
   744,
   753,
   758,
   779,
   787,
   810,
   835,
   863,
   870,
   891,
   896,
   902,
   923,
   928,
   936,
   956,
   968
  ]
 },
 "nbformat": 4,
 "nbformat_minor": 5
}