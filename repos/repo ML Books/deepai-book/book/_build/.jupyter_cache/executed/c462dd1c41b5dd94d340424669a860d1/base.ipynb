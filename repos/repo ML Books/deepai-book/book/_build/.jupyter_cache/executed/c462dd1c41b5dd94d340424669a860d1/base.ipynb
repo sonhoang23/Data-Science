{
 "cells": [
  {
   "cell_type": "code",
   "execution_count": 1,
   "id": "grand-spirituality",
   "metadata": {
    "colab": {
     "base_uri": "https://localhost:8080/"
    },
    "executionInfo": {
     "elapsed": 878,
     "status": "ok",
     "timestamp": 1616396276580,
     "user": {
      "displayName": "khanhblog AI",
      "photoUrl": "https://lh3.googleusercontent.com/a-/AOh14GhNCi9Qnch9sWXSuvX4N5yijAGEjX1IvfmN-95m=s64",
      "userId": "06481533334230032014"
     },
     "user_tz": -420
    },
    "id": "GKCBPvw9t09W",
    "outputId": "52bfd40a-a916-4426-f0c9-21577347ee26"
   },
   "outputs": [
    {
     "name": "stdout",
     "output_type": "stream",
     "text": [
      "diện tích x = 50 --> giá nhà y = a*50+b =  tensor(1200)\n"
     ]
    }
   ],
   "source": [
    "import torch\n",
    "\n",
    "a = torch.tensor(20)\n",
    "b = torch.tensor(200)\n",
    "print(\"diện tích x = 50 --> giá nhà y = a*50+b = \", a*50+b)"
   ]
  },
  {
   "cell_type": "code",
   "execution_count": 2,
   "id": "economic-thomson",
   "metadata": {
    "colab": {
     "base_uri": "https://localhost:8080/"
    },
    "executionInfo": {
     "elapsed": 1046,
     "status": "ok",
     "timestamp": 1616396770942,
     "user": {
      "displayName": "khanhblog AI",
      "photoUrl": "https://lh3.googleusercontent.com/a-/AOh14GhNCi9Qnch9sWXSuvX4N5yijAGEjX1IvfmN-95m=s64",
      "userId": "06481533334230032014"
     },
     "user_tz": -420
    },
    "id": "a6HgWue-wAJb",
    "outputId": "505edf02-ed13-4ef4-b281-b7146c757711"
   },
   "outputs": [
    {
     "data": {
      "text/plain": [
       "tensor([1.0000, 1.2000, 1.5000, 1.8000, 2.0000])"
      ]
     },
     "execution_count": 2,
     "metadata": {},
     "output_type": "execute_result"
    }
   ],
   "source": [
    "x = torch.tensor([1, 1.2, 1.5, 1.8, 2])\n",
    "x"
   ]
  },
  {
   "cell_type": "code",
   "execution_count": 3,
   "id": "declared-honolulu",
   "metadata": {
    "colab": {
     "base_uri": "https://localhost:8080/"
    },
    "executionInfo": {
     "elapsed": 948,
     "status": "ok",
     "timestamp": 1616397623685,
     "user": {
      "displayName": "khanhblog AI",
      "photoUrl": "https://lh3.googleusercontent.com/a-/AOh14GhNCi9Qnch9sWXSuvX4N5yijAGEjX1IvfmN-95m=s64",
      "userId": "06481533334230032014"
     },
     "user_tz": -420
    },
    "id": "seicl1pMwT1N",
    "outputId": "02e6339b-f69f-488f-8b8e-a4096c0aced0"
   },
   "outputs": [
    {
     "name": "stdout",
     "output_type": "stream",
     "text": [
      "length of vector:  torch.Size([5])\n",
      "vector type:  torch.float32\n",
      "sum of vector:  tensor(7.5000)\n",
      "mean of vector:  tensor(1.5000)\n",
      "min of vector:  tensor(1.)\n",
      "max of vector:  tensor(2.)\n"
     ]
    }
   ],
   "source": [
    "# Độ dài\n",
    "print(\"length of vector: \", x.size()) # or len(x)\n",
    "\n",
    "# Định dạng của véc tơ\n",
    "print(\"vector type: \", x.dtype)\n",
    "\n",
    "# Tổng của các phần tử \n",
    "print(\"sum of vector: \", x.sum())\n",
    "\n",
    "# Trung bình các phần tử\n",
    "print(\"mean of vector: \", x.mean())\n",
    "\n",
    "# Giá trị nhỏ nhất\n",
    "print(\"min of vector: \", x.min())\n",
    "\n",
    "# Giá trị lớn nhất\n",
    "print(\"max of vector: \", x.max())"
   ]
  },
  {
   "cell_type": "code",
   "execution_count": 4,
   "id": "modified-trail",
   "metadata": {
    "colab": {
     "base_uri": "https://localhost:8080/"
    },
    "executionInfo": {
     "elapsed": 934,
     "status": "ok",
     "timestamp": 1616397329647,
     "user": {
      "displayName": "khanhblog AI",
      "photoUrl": "https://lh3.googleusercontent.com/a-/AOh14GhNCi9Qnch9sWXSuvX4N5yijAGEjX1IvfmN-95m=s64",
      "userId": "06481533334230032014"
     },
     "user_tz": -420
    },
    "id": "m-RlaOQlxdq-",
    "outputId": "76be7202-df10-45f7-96c3-c2cea8f4d857"
   },
   "outputs": [
    {
     "name": "stdout",
     "output_type": "stream",
     "text": [
      "x + y:  tensor([2.1000, 4.2000, 2.7000, 3.4000, 3.6000])\n",
      "x - y:  tensor([-0.1000, -0.2000,  0.3000,  0.2000,  0.2000])\n",
      "x * y:  tensor([1.1000, 4.4000, 1.8000, 2.8800, 3.2300])\n"
     ]
    }
   ],
   "source": [
    "x = torch.tensor([1, 2, 1.5, 1.8, 1.9])\n",
    "y = torch.tensor([1.1, 2.2, 1.2, 1.6, 1.7])\n",
    "print(\"x + y: \", x + y)\n",
    "print(\"x - y: \", x - y)\n",
    "print(\"x * y: \", x * y)"
   ]
  },
  {
   "cell_type": "code",
   "execution_count": 5,
   "id": "promising-nepal",
   "metadata": {
    "colab": {
     "base_uri": "https://localhost:8080/"
    },
    "executionInfo": {
     "elapsed": 891,
     "status": "ok",
     "timestamp": 1616397484193,
     "user": {
      "displayName": "khanhblog AI",
      "photoUrl": "https://lh3.googleusercontent.com/a-/AOh14GhNCi9Qnch9sWXSuvX4N5yijAGEjX1IvfmN-95m=s64",
      "userId": "06481533334230032014"
     },
     "user_tz": -420
    },
    "id": "2E51lUQdyuVk",
    "outputId": "0bf96f7f-8922-4212-ef21-091c38ff7e17"
   },
   "outputs": [
    {
     "name": "stdout",
     "output_type": "stream",
     "text": [
      "x + 5:  tensor([6.0000, 7.0000, 6.5000, 6.8000, 6.9000])\n",
      "x - 5:  tensor([-4.0000, -3.0000, -3.5000, -3.2000, -3.1000])\n",
      "x * 5:  tensor([ 5.0000, 10.0000,  7.5000,  9.0000,  9.5000])\n"
     ]
    }
   ],
   "source": [
    "x = torch.tensor([1, 2, 1.5, 1.8, 1.9])\n",
    "print(\"x + 5: \", x + 5)\n",
    "print(\"x - 5: \", x - 5)\n",
    "print(\"x * 5: \", x * 5)"
   ]
  },
  {
   "cell_type": "code",
   "execution_count": 6,
   "id": "alien-population",
   "metadata": {
    "colab": {
     "base_uri": "https://localhost:8080/"
    },
    "executionInfo": {
     "elapsed": 897,
     "status": "ok",
     "timestamp": 1616404093886,
     "user": {
      "displayName": "khanhblog AI",
      "photoUrl": "https://lh3.googleusercontent.com/a-/AOh14GhNCi9Qnch9sWXSuvX4N5yijAGEjX1IvfmN-95m=s64",
      "userId": "06481533334230032014"
     },
     "user_tz": -420
    },
    "id": "6jhqne1BL76G",
    "outputId": "38c30390-e3b3-4da5-a5f5-0e8111ca33f4"
   },
   "outputs": [
    {
     "data": {
      "text/plain": [
       "torch.Size([2, 3])"
      ]
     },
     "execution_count": 6,
     "metadata": {},
     "output_type": "execute_result"
    }
   ],
   "source": [
    "import torch\n",
    "A = torch.tensor([[1, 2, 3], \n",
    "                  [3, 2, 1]])\n",
    "\n",
    "# shape của matrix A\n",
    "A.size()"
   ]
  },
  {
   "cell_type": "code",
   "execution_count": 7,
   "id": "distinct-adaptation",
   "metadata": {},
   "outputs": [
    {
     "data": {
      "text/plain": [
       "tensor([[2, 2, 6],\n",
       "        [3, 6, 0]])"
      ]
     },
     "execution_count": 7,
     "metadata": {},
     "output_type": "execute_result"
    }
   ],
   "source": [
    "import torch\n",
    "A = torch.tensor([[1, 2, 3], \n",
    "                  [3, 2, 1]])\n",
    "\n",
    "B = torch.tensor([[2, 1, 2], \n",
    "                  [1, 3, 0]])\n",
    "\n",
    "A*B"
   ]
  },
  {
   "cell_type": "code",
   "execution_count": 8,
   "id": "willing-difference",
   "metadata": {},
   "outputs": [
    {
     "name": "stdout",
     "output_type": "stream",
     "text": [
      "A-B: \n",
      " tensor([[-1,  1,  1],\n",
      "        [ 2, -1,  1]])\n",
      "A+B: \n",
      " tensor([[3, 3, 5],\n",
      "        [4, 5, 1]])\n"
     ]
    }
   ],
   "source": [
    "print(\"A-B: \\n\", A-B)\n",
    "print(\"A+B: \\n\", A+B)"
   ]
  },
  {
   "cell_type": "code",
   "execution_count": 9,
   "id": "owned-robert",
   "metadata": {
    "colab": {
     "base_uri": "https://localhost:8080/"
    },
    "executionInfo": {
     "elapsed": 1614,
     "status": "ok",
     "timestamp": 1616407416447,
     "user": {
      "displayName": "khanhblog AI",
      "photoUrl": "https://lh3.googleusercontent.com/a-/AOh14GhNCi9Qnch9sWXSuvX4N5yijAGEjX1IvfmN-95m=s64",
      "userId": "06481533334230032014"
     },
     "user_tz": -420
    },
    "id": "AbMazwKoY38o",
    "outputId": "cccd00b4-0574-4325-866d-47ce82d0563a"
   },
   "outputs": [
    {
     "data": {
      "text/plain": [
       "tensor([[ 7, 10],\n",
       "        [ 9, 10]])"
      ]
     },
     "execution_count": 9,
     "metadata": {},
     "output_type": "execute_result"
    }
   ],
   "source": [
    "import torch\n",
    "A = torch.tensor([[1, 2, 3], \n",
    "                  [3, 2, 1]])\n",
    "\n",
    "B = torch.tensor([[2, 1], \n",
    "                  [1, 3],\n",
    "                  [1, 1]])\n",
    "\n",
    "A@B"
   ]
  },
  {
   "cell_type": "code",
   "execution_count": 10,
   "id": "pressing-friend",
   "metadata": {
    "colab": {
     "base_uri": "https://localhost:8080/"
    },
    "executionInfo": {
     "elapsed": 1351,
     "status": "ok",
     "timestamp": 1616408424009,
     "user": {
      "displayName": "khanhblog AI",
      "photoUrl": "https://lh3.googleusercontent.com/a-/AOh14GhNCi9Qnch9sWXSuvX4N5yijAGEjX1IvfmN-95m=s64",
      "userId": "06481533334230032014"
     },
     "user_tz": -420
    },
    "id": "ZYyRRHsGclor",
    "outputId": "de94433a-e538-4eeb-9cb1-656558fa69b8"
   },
   "outputs": [
    {
     "data": {
      "text/plain": [
       "tensor([[1, 2],\n",
       "        [3, 2]])"
      ]
     },
     "execution_count": 10,
     "metadata": {},
     "output_type": "execute_result"
    }
   ],
   "source": [
    "import torch\n",
    "A = torch.tensor([[1, 2, 3], \n",
    "                  [3, 2, 1],\n",
    "                  [4, 2, 2]])\n",
    "\n",
    "# Truy cập ma trận con từ 2 dòng đầu tiên và 2 cột đầu tiên.\n",
    "A[:2, :2]"
   ]
  },
  {
   "cell_type": "code",
   "execution_count": 11,
   "id": "classical-sphere",
   "metadata": {
    "colab": {
     "base_uri": "https://localhost:8080/"
    },
    "executionInfo": {
     "elapsed": 1038,
     "status": "ok",
     "timestamp": 1616408457059,
     "user": {
      "displayName": "khanhblog AI",
      "photoUrl": "https://lh3.googleusercontent.com/a-/AOh14GhNCi9Qnch9sWXSuvX4N5yijAGEjX1IvfmN-95m=s64",
      "userId": "06481533334230032014"
     },
     "user_tz": -420
    },
    "id": "gJT0wJp5czZR",
    "outputId": "9843ceb4-5540-48f6-98ff-7c7b7aae4202"
   },
   "outputs": [
    {
     "data": {
      "text/plain": [
       "tensor([[3, 2],\n",
       "        [4, 2]])"
      ]
     },
     "execution_count": 11,
     "metadata": {},
     "output_type": "execute_result"
    }
   ],
   "source": [
    "# Truy cập ma trận con từ 2 dòng cuối cùng và 2 cột đầu tiên\n",
    "A[-2:, :2]"
   ]
  },
  {
   "cell_type": "code",
   "execution_count": 12,
   "id": "finished-vector",
   "metadata": {
    "colab": {
     "base_uri": "https://localhost:8080/"
    },
    "executionInfo": {
     "elapsed": 994,
     "status": "ok",
     "timestamp": 1616409420405,
     "user": {
      "displayName": "khanhblog AI",
      "photoUrl": "https://lh3.googleusercontent.com/a-/AOh14GhNCi9Qnch9sWXSuvX4N5yijAGEjX1IvfmN-95m=s64",
      "userId": "06481533334230032014"
     },
     "user_tz": -420
    },
    "id": "RGk2zhToc7SW",
    "outputId": "3f467e8c-b630-43f1-d6ca-1a5ec766f974"
   },
   "outputs": [
    {
     "name": "stdout",
     "output_type": "stream",
     "text": [
      "tensor([2, 2])\n"
     ]
    },
    {
     "data": {
      "text/plain": [
       "tensor([2, 2])"
      ]
     },
     "execution_count": 12,
     "metadata": {},
     "output_type": "execute_result"
    }
   ],
   "source": [
    "# Truy cập véc tơ con từ dòng thứ 2 và 2 cột cuối cùng.\n",
    "print(A[2, -2:])\n",
    "\n",
    "# Hoặc\n",
    "A[2:3, -2:][0]"
   ]
  },
  {
   "cell_type": "code",
   "execution_count": 13,
   "id": "floral-bedroom",
   "metadata": {
    "colab": {
     "base_uri": "https://localhost:8080/"
    },
    "executionInfo": {
     "elapsed": 923,
     "status": "ok",
     "timestamp": 1616409564063,
     "user": {
      "displayName": "khanhblog AI",
      "photoUrl": "https://lh3.googleusercontent.com/a-/AOh14GhNCi9Qnch9sWXSuvX4N5yijAGEjX1IvfmN-95m=s64",
      "userId": "06481533334230032014"
     },
     "user_tz": -420
    },
    "id": "ax_2Gy8zgudB",
    "outputId": "0d5b1fe4-4794-42b5-bb46-10e27d2b3eb4"
   },
   "outputs": [
    {
     "data": {
      "text/plain": [
       "tensor([[1, 2, 3],\n",
       "        [4, 2, 2]])"
      ]
     },
     "execution_count": 13,
     "metadata": {},
     "output_type": "execute_result"
    }
   ],
   "source": [
    "# Truy cập ma trận có các dòng chẵn\n",
    "A[::2, :]"
   ]
  },
  {
   "cell_type": "code",
   "execution_count": 14,
   "id": "injured-spouse",
   "metadata": {
    "colab": {
     "base_uri": "https://localhost:8080/"
    },
    "executionInfo": {
     "elapsed": 948,
     "status": "ok",
     "timestamp": 1616409866190,
     "user": {
      "displayName": "khanhblog AI",
      "photoUrl": "https://lh3.googleusercontent.com/a-/AOh14GhNCi9Qnch9sWXSuvX4N5yijAGEjX1IvfmN-95m=s64",
      "userId": "06481533334230032014"
     },
     "user_tz": -420
    },
    "id": "LQbABuIrhr0q",
    "outputId": "f8900a38-23aa-4e8d-8f59-16242b9b24b3"
   },
   "outputs": [
    {
     "data": {
      "text/plain": [
       "tensor([[1, 2, 3],\n",
       "        [4, 2, 2]])"
      ]
     },
     "execution_count": 14,
     "metadata": {},
     "output_type": "execute_result"
    }
   ],
   "source": [
    "# Truy cập một index cụ thể ví dụ dòng 0, 2 của ma trận\n",
    "A.index_select(0, torch.tensor([0, 2]))\n",
    "# Trong công thức trên 0 là chiều mà ta sẽ lấy, tensor([0, 2]) là các index ta sẽ lấy từ chiều 0."
   ]
  },
  {
   "cell_type": "code",
   "execution_count": 15,
   "id": "third-importance",
   "metadata": {},
   "outputs": [
    {
     "name": "stdout",
     "output_type": "stream",
     "text": [
      "shape of A:  torch.Size([2, 2, 3])\n",
      "total dim:  3\n",
      "dtype:  torch.int64\n"
     ]
    }
   ],
   "source": [
    "A = torch.tensor([[[1, 2, 3], \n",
    "                  [3, 2, 1]],\n",
    "                  [[2, 1, 2], \n",
    "                  [1, 3, 0]]])\n",
    "\n",
    "# Kích thước của tensor\n",
    "print(\"shape of A: \" , A.size())\n",
    "\n",
    "# Số chiều \n",
    "print(\"total dim: \", A.ndim)\n",
    "\n",
    "# Định dạng dữ liệu\n",
    "print(\"dtype: \", A.dtype)"
   ]
  },
  {
   "cell_type": "code",
   "execution_count": 16,
   "id": "constant-latter",
   "metadata": {},
   "outputs": [
    {
     "data": {
      "text/plain": [
       "torch.Size([2, 3, 2])"
      ]
     },
     "execution_count": 16,
     "metadata": {},
     "output_type": "execute_result"
    }
   ],
   "source": [
    "import torch\n",
    "\n",
    "A = torch.randn([2, 3, 4])\n",
    "B = torch.randn([2, 4, 2])\n",
    "\n",
    "# Tích giữa 2 tensor\n",
    "(A@B).size()"
   ]
  },
  {
   "cell_type": "code",
   "execution_count": 17,
   "id": "agreed-sociology",
   "metadata": {},
   "outputs": [
    {
     "data": {
      "text/plain": [
       "torch.Size([2, 3, 4])"
      ]
     },
     "execution_count": 17,
     "metadata": {},
     "output_type": "execute_result"
    }
   ],
   "source": [
    "import torch\n",
    "\n",
    "A = torch.randn([2, 3, 4])\n",
    "B = torch.randn([2, 3, 4])\n",
    "\n",
    "# Tích hadamard giữa 2 tensor\n",
    "(A*B).size()"
   ]
  },
  {
   "cell_type": "code",
   "execution_count": 18,
   "id": "flexible-equilibrium",
   "metadata": {},
   "outputs": [
    {
     "data": {
      "text/plain": [
       "torch.Size([2, 3, 4])"
      ]
     },
     "execution_count": 18,
     "metadata": {},
     "output_type": "execute_result"
    }
   ],
   "source": [
    "# Phép cộng\n",
    "(A+B).size()"
   ]
  },
  {
   "cell_type": "code",
   "execution_count": 19,
   "id": "historical-economics",
   "metadata": {},
   "outputs": [
    {
     "data": {
      "text/plain": [
       "torch.Size([2, 3, 4])"
      ]
     },
     "execution_count": 19,
     "metadata": {},
     "output_type": "execute_result"
    }
   ],
   "source": [
    "# Phép trừ\n",
    "(A-B).size()"
   ]
  },
  {
   "cell_type": "code",
   "execution_count": 20,
   "id": "superior-venue",
   "metadata": {},
   "outputs": [
    {
     "data": {
      "text/plain": [
       "tensor([[[-1.5483,  0.6321,  0.8363, -0.1253],\n",
       "         [ 2.1015, -0.9334,  1.3284, -0.5874],\n",
       "         [ 1.1368,  1.1072, -0.2711, -0.2864]]])"
      ]
     },
     "execution_count": 20,
     "metadata": {},
     "output_type": "execute_result"
    }
   ],
   "source": [
    "import torch\n",
    "\n",
    "# Khởi tạo ma trận A kích thước m, n, p = 2, 3, 4\n",
    "A = torch.randn([2, 3, 4])\n",
    "\n",
    "# Truy cập ma trận đầu tiên \n",
    "A[:1, :, :]"
   ]
  },
  {
   "cell_type": "code",
   "execution_count": 21,
   "id": "aggregate-creativity",
   "metadata": {},
   "outputs": [
    {
     "data": {
      "text/plain": [
       "tensor([[ 2.1015, -0.9334,  1.3284, -0.5874],\n",
       "        [ 1.1368,  1.1072, -0.2711, -0.2864]])"
      ]
     },
     "execution_count": 21,
     "metadata": {},
     "output_type": "execute_result"
    }
   ],
   "source": [
    "# Truy cập ma trận đầu tiên và chỉ lấy dòng từ 1 tới 3\n",
    "A[0][1:3, :]"
   ]
  },
  {
   "cell_type": "code",
   "execution_count": 22,
   "id": "gothic-answer",
   "metadata": {},
   "outputs": [
    {
     "data": {
      "text/plain": [
       "tensor([[-0.1253, -0.5874]])"
      ]
     },
     "execution_count": 22,
     "metadata": {},
     "output_type": "execute_result"
    }
   ],
   "source": [
    "# Truy cập tương ứng với các chiều m, n, p lần lượt index đầu tiên, 2 index đầu tiên, và index thứ 3.\n",
    "A[:1, :2, 3]"
   ]
  },
  {
   "cell_type": "code",
   "execution_count": 23,
   "id": "billion-example",
   "metadata": {},
   "outputs": [],
   "source": [
    "import torch\n",
    "\n",
    "X = torch.tensor([[100, 120, 80, 90, 105, 95], \n",
    "                  [2, 3, 2, 2, 3, 2]])"
   ]
  },
  {
   "cell_type": "code",
   "execution_count": 24,
   "id": "illegal-server",
   "metadata": {},
   "outputs": [
    {
     "data": {
      "text/plain": [
       "tensor([[1200],\n",
       "        [1500],\n",
       "        [1000],\n",
       "        [1100],\n",
       "        [1350],\n",
       "        [1150]])"
      ]
     },
     "execution_count": 24,
     "metadata": {},
     "output_type": "execute_result"
    }
   ],
   "source": [
    "w = torch.tensor([[10], [100]])\n",
    "y = X.T@w\n",
    "y"
   ]
  },
  {
   "cell_type": "code",
   "execution_count": 25,
   "id": "accredited-president",
   "metadata": {},
   "outputs": [
    {
     "data": {
      "text/plain": [
       "tensor(20)"
      ]
     },
     "execution_count": 25,
     "metadata": {},
     "output_type": "execute_result"
    }
   ],
   "source": [
    "import torch\n",
    "\n",
    "x = torch.tensor([1, 2, 3])\n",
    "y = torch.tensor([2, 3, 4])\n",
    "x.dot(y)"
   ]
  },
  {
   "cell_type": "code",
   "execution_count": 26,
   "id": "breeding-tomorrow",
   "metadata": {},
   "outputs": [
    {
     "data": {
      "text/plain": [
       "tensor(2.5612)"
      ]
     },
     "execution_count": 26,
     "metadata": {},
     "output_type": "execute_result"
    }
   ],
   "source": [
    "import torch\n",
    "x = torch.randn(10)\n",
    "torch.norm(x, p=2)"
   ]
  },
  {
   "cell_type": "code",
   "execution_count": 27,
   "id": "annual-proposal",
   "metadata": {},
   "outputs": [
    {
     "name": "stdout",
     "output_type": "stream",
     "text": [
      "tensor(5.5196)\n"
     ]
    },
    {
     "data": {
      "text/plain": [
       "tensor(5.5196)"
      ]
     },
     "execution_count": 27,
     "metadata": {},
     "output_type": "execute_result"
    }
   ],
   "source": [
    "print(torch.norm(x, p=1))\n",
    "# hoặc \n",
    "torch.abs(x).sum()"
   ]
  },
  {
   "cell_type": "code",
   "execution_count": 28,
   "id": "controlled-hurricane",
   "metadata": {},
   "outputs": [
    {
     "data": {
      "text/plain": [
       "tensor(3.2034)"
      ]
     },
     "execution_count": 28,
     "metadata": {},
     "output_type": "execute_result"
    }
   ],
   "source": [
    "# chuẩn p bất kỳ >= 1, chẳng hạn p=1.5\n",
    "torch.norm(x, p=1.5)"
   ]
  }
 ],
 "metadata": {
  "jupytext": {
   "text_representation": {
    "extension": ".md",
    "format_name": "myst",
    "format_version": 0.12,
    "jupytext_version": "1.8.2"
   }
  },
  "kernelspec": {
   "display_name": "Python 3",
   "name": "python3"
  },
  "language_info": {
   "codemirror_mode": {
    "name": "ipython",
    "version": 3
   },
   "file_extension": ".py",
   "mimetype": "text/x-python",
   "name": "python",
   "nbconvert_exporter": "python",
   "pygments_lexer": "ipython3",
   "version": "3.6.9"
  },
  "source_map": [
   13,
   17,
   25,
   48,
   52,
   58,
   78,
   84,
   119,
   125,
   148,
   152,
   174,
   189,
   236,
   242,
   266,
   286,
   297,
   301,
   306,
   322,
   349,
   364,
   389,
   409,
   432,
   452,
   473,
   479,
   485,
   501,
   507,
   517,
   521,
   531,
   535,
   540,
   545,
   549,
   559,
   564,
   569,
   593,
   600,
   605,
   609,
   613,
   621,
   627,
   678,
   685,
   691,
   696,
   702,
   708,
   713,
   721,
   726,
   738
  ]
 },
 "nbformat": 4,
 "nbformat_minor": 5
}