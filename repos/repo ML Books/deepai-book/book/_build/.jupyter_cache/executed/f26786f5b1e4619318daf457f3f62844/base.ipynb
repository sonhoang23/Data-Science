{
 "cells": [
  {
   "cell_type": "code",
   "execution_count": 1,
   "id": "adapted-difference",
   "metadata": {
    "colab": {
     "base_uri": "https://localhost:8080/"
    },
    "executionInfo": {
     "elapsed": 4308,
     "status": "ok",
     "timestamp": 1616987934972,
     "user": {
      "displayName": "khanhblog AI",
      "photoUrl": "https://lh3.googleusercontent.com/a-/AOh14GhNCi9Qnch9sWXSuvX4N5yijAGEjX1IvfmN-95m=s64",
      "userId": "06481533334230032014"
     },
     "user_tz": -420
    },
    "id": "jSexGPU34btX",
    "outputId": "fedcf1c1-29ef-46ee-9345-bc9da47432f0"
   },
   "outputs": [
    {
     "data": {
      "text/plain": [
       "21.998999999979674"
      ]
     },
     "execution_count": 1,
     "metadata": {},
     "output_type": "execute_result"
    }
   ],
   "source": [
    "import torch\n",
    "\n",
    "# Tính đạo hàm của vận tốc f(x) = x^2+2*x\n",
    "\n",
    "def _derivative(x):\n",
    "  f1 = x**2 + 2*x\n",
    "  delta = 0.001 # giá trị delta ở mẫu\n",
    "  x0 = x-delta\n",
    "  f0 = x0**2 + 2*x0\n",
    "  der = (f1-f0)/delta\n",
    "  return der\n",
    "\n",
    "_derivative(10)"
   ]
  }
 ],
 "metadata": {
  "jupytext": {
   "text_representation": {
    "extension": ".md",
    "format_name": "myst",
    "format_version": 0.12,
    "jupytext_version": "1.8.2"
   }
  },
  "kernelspec": {
   "display_name": "Python 3",
   "name": "python3"
  },
  "language_info": {
   "codemirror_mode": {
    "name": "ipython",
    "version": 3
   },
   "file_extension": ".py",
   "mimetype": "text/x-python",
   "name": "python",
   "nbconvert_exporter": "python",
   "pygments_lexer": "ipython3",
   "version": "3.6.9"
  },
  "source_map": [
   13,
   42,
   54,
   85,
   106,
   128,
   151,
   163,
   178,
   186,
   211,
   241,
   269,
   292,
   308
  ]
 },
 "nbformat": 4,
 "nbformat_minor": 5
}