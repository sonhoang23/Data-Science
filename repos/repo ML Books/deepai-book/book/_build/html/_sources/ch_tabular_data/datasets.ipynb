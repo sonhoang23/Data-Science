{
 "cells": [
  {
   "cell_type": "markdown",
   "id": "historical-championship",
   "metadata": {},
   "source": [
    "# Các bộ dữ liệu sử dụng trong sách\n",
    "\n",
    "Các bộ dữ liệu dạng bảng trong cuốn sách này sẽ được chủ yếu lấy từ [các cuộc thi trên Kaggle](https://www.kaggle.com/competitions).\n",
    "\n",
    "![](imgs/kaggle_competitions.png)\n",
    "\n",
    "Đặc điểm nhận ra các bộ dữ liệu dạng bảng là các file csv ở phần \"Data Explorer\" trong tab \"Data\" như hình dưới đây với cuộc thi [Titanic](https://www.kaggle.com/c/titanic/overview).\n",
    "\n",
    "```{margin}\n",
    "Titanic được coi như \"Hello world\" với dữ liệu dạng bảng. Đây là bộ dữ liệu được dùng để minh họa các cách làm sạch dữ liệu và xây dựng đặc trưng điển hình.\n",
    "```\n",
    "\n",
    "![](imgs/titanic_data.png)\n",
    "\n",
    "Trước khi download các bộ dữ liệu này, bạn cần tạo tài khoản và chấp nhận điều lệ của từng cuộc thi.\n",
    "\n",
    "## Kaggle API\n",
    "\n",
    "Để có thể download và nộp kết quả thông qua cửa sổ dòng lệnh (_terminal_), bạn cần cài đặt [kaggle-api](https://github.com/Kaggle/kaggle-api).\n",
    "Chú ý đọc kỹ phần [API Credentials](https://github.com/Kaggle/kaggle-api#api-credentials) để cài đặt API Token cho tài khoản của bạn.\n",
    "\n",
    "Mỗi cuộc thi sẽ có mã riêng để giúp các bạn thao thác thông qua API này. Câu lệnh để download dữ liệu cho mỗi cuộc thi cũng được cho trong tab \"Data\" của cuộc thi đó.\n",
    "Ví dụ, để download dữ liệu Titanic, bạn có thể chạy lệnh sau đây:\n",
    "\n",
    "```\n",
    "kaggle competitions download -c titanic\n",
    "```\n",
    "\n",
    "Đoạn lệnh ví dụ dưới đây thực hiện thao tác download bộ dữ liệu Titanic về thư mục `data/tianic` và giải nén."
   ]
  },
  {
   "cell_type": "code",
   "execution_count": 1,
   "id": "returning-matthew",
   "metadata": {},
   "outputs": [],
   "source": [
    "%%capture\n",
    "!rm -rf ../data/titanic; mkdir -p ../data/titanic\n",
    "!kaggle competitions download -c titanic -p ../data/titanic;\n",
    "!cd ../data/titanic; unzip titanic.zip; rm titanic.zip;"
   ]
  },
  {
   "cell_type": "markdown",
   "id": "presidential-hospital",
   "metadata": {},
   "source": [
    "```{note}\n",
    "Site này được viết trong một jupyter notebook.\n",
    "Các dấu `!` để báo với chương trình rằng đây không phải là một đoạn code python mà là các câu lệnh nên được thực hiện ở cửa sổ dòng lệnh.\n",
    "```"
   ]
  },
  {
   "cell_type": "code",
   "execution_count": 2,
   "id": "virtual-playback",
   "metadata": {},
   "outputs": [],
   "source": [
    "!ls ../data/titanic"
   ]
  },
  {
   "cell_type": "markdown",
   "id": "cardiovascular-perry",
   "metadata": {},
   "source": [
    "Sau khi giải nén, thư mục `data/titanic` chưa ba file: file `train.csv` chứa thông tin về tập huấn luyện, file `test.csv` chứa thông tin về tập kiểm tra, và file `gender_submission.csv` chứa ví dụ mẫu về cấu trúc của file nộp bài để Kaggle tính điểm. \n",
    "\n",
    "Ngoài Titanic, cuốn sách sẽ sử dụng các bộ dữ liệu sau đây làm ví dụ minh họa.\n",
    "\n",
    "(sec_california_housing)=\n",
    "## Giá nhà California\n",
    "\n",
    "Đây là một bộ dữ liệu vừa tầm (khoảng 20k dòng và 9 cột) được sử dụng nhiều trong các bài hướng dẫn về xử lý dữ liệu trước khi xây dựng mô hình.\n",
    "Bộ dữ liệu này được sử dụng trong [Machine Learning Crash Course của Google](https://developers.google.com/machine-learning/crash-course/california-housing-data-description), [Hands-On Machine Learning with Scikit-Learn, Keras, and TensorFlow, 2nd Edition](https://www.oreilly.com/library/view/hands-on-machine-learning/9781492032632/) và có thể tải về từ [Kaggle](https://www.kaggle.com/camnugent/california-housing-prices?select=housing.csv).\n",
    "\n",
    "Lưu ý: một phiên bản khác của bộ dữ liệu này có thể được tìm thấy tại [sklearn.datasets](https://scikit-learn.org/stable/modules/generated/sklearn.datasets.fetch_california_housing.html). Tuy nhiên phiên bản này thiếu một trường dữ liệu hạng mục thú vị là \"ocean_proximity\".\n",
    "\n",
    "Phiên bản sử dụng trong cuốn sách này được download từ [Kaggle](https://www.kaggle.com/camnugent/california-housing-prices?select=housing.csv) vào thư mục `../data/california_housing`.\n",
    "\n",
    "Bài toán đặt ra là dự đoán trung vị của giá nhà tại các hạt trong bang California vào những năm 1990 dựa vào các thông tin như tuổi đời trung bình của nhà, thu nhập trung vị của mỗi hộ gia đình, số lượng phòng, dân số vùng và tọa độ của mỗi hạt.\n",
    "Mặc dù bộ dữ liệu này đã lỗi thời, nó vẫn mang rất nhiều giá trị trong việc giảng dạy kỹ thuật xử lý dữ liệu dạng bảng.\n",
    "\n",
    "## Dự đoán lượng mua\n",
    "\n",
    "Có một loại bài toán phổ biến với dữ liệu dạng bảng là dự đoán lượng mua của mỗi sản phẩm trong các cửa hàng trong một khoảng thời gian dựa vào những thông tin bán hàng trong quá khứ.\n",
    "Đây là một dạng bài toán hữu ích cho các nhà bán lẻ vì nó giúp họ chuẩn bị lượng sản phẩm cần thiết trong kho để tránh hiện tượng thiếu hàng hay tồn kho, đặc biệt trong các dịp lễ tết.\n",
    "\n",
    "Trong cuốn sách này, một số bộ dữ liệu sau đây sẽ được sử dụng:\n",
    "\n",
    "* [Rossmann store sales](https://www.kaggle.com/c/rossmann-store-sales): Trong cuộc thi này, các đội chơi được yêu cầu dự đoán lượng mua của các sản phẩm trong hơn 1000 cửa hàng của hãng Rossmann tại Đức.\n",
    "Các thông tin về ngày lễ, khuyến mại cũng được sử dụng."
   ]
  },
  {
   "cell_type": "code",
   "execution_count": 3,
   "id": "hearing-rabbit",
   "metadata": {
    "tags": [
     "hide-input"
    ]
   },
   "outputs": [],
   "source": [
    "%%capture\n",
    "!rm -rf ../data/rossmann; mkdir -p ../data/rossmann\n",
    "!kaggle competitions download -c rossmann-store-sales -p ../data/rossmann;\n",
    "!cd ../data/rossmann; unzip rossmann-store-sales.zip; rm rossmann-store-sales.zip;"
   ]
  },
  {
   "cell_type": "markdown",
   "id": "false-conflict",
   "metadata": {},
   "source": [
    "* [Predict Future Sales](https://www.kaggle.com/c/competitive-data-science-predict-future-sales): Cuộc thi này yêu cầu các đội chơi dự đoán số sản phẩm bán được trong một tháng tại một chuỗi các cửa hàng khác nhau của Nga dựa trên thông tin về giá cả, tên và lượng bán của mỗi sản phẩm mỗi ngày trong gần ba năm trước đó."
   ]
  },
  {
   "cell_type": "code",
   "execution_count": 4,
   "id": "worst-junior",
   "metadata": {
    "tags": [
     "hide-input"
    ]
   },
   "outputs": [],
   "source": [
    "%%capture\n",
    "!rm -rf ../data/sales; mkdir -p ../data/sales\n",
    "!kaggle competitions download -c competitive-data-science-predict-future-sales -p ../data/sales;\n",
    "!cd ../data/sales; unzip competitive-data-science-predict-future-sales.zip; rm competitive-data-science-predict-future-sales.zip"
   ]
  },
  {
   "cell_type": "markdown",
   "id": "australian-apollo",
   "metadata": {},
   "source": [
    "Các loại dữ liệu dựa vào lịch sử kèm thời gian thường được xếp vào dạng dữ liệu chuỗi thời gian.\n",
    "Với dữ liệu dạng này, chúng ta sẽ được giới thiệu các kỹ thuật tạo đặc trưng, đặc biệt là đăng trưng dạng mùa vụ.\n",
    "\n",
    "## Hệ thống gợi ý\n",
    "\n",
    "Một nhóm bài toán thú vị khác là các bài hệ thống gợi ý.\n",
    "Trong các bài toán này, nhiệm vụ của các kỹ sư machine learning và nhà khoa học dữ liệu là đưa ra sản phẩm gợi ý cho mỗi người dùng tại một thời điểm nhất định dựa trên lịch sử thể hiện sự ưa thích của người dùng với sản phẩm đã có trước đó. Tôi sẽ sử dụng một trong các bộ dữ liệu tại [Kaggle Recommendation System](https://www.kaggle.com/tags/recommender-systems).\n",
    "\n",
    "Bạn đọc có thể xem thêm phần [Hệ thống gợi ý](https://machinelearningcoban.com/2017/05/17/contentbasedrecommendersys/) trong blog \"Machine Learning cơ bản\" về các bài toán lại này. Tuy nhiên, xin lưu ý rằng nội dung trên blog chưa hề đề cập đến dữ liệu dạng bảng và cách xử lý chúng. Cuốn sách này sẽ bàn kỹ hơn về cách tận dụng các thông tin liên quan đến người dùng và sản phẩm để có kết quả tốt hơn.\n",
    "\n",
    "## Cấu trúc của mỗi bộ dữ liệu\n",
    "\n",
    "Trong thực tế, các công ty hiếm khi lưu dữ liệu ở dạng csv vì tốc độ truy xuất và lưu trữ chậm.\n",
    "Chúng thường được lưu ở các định dạng phù hợp với dữ liệu lớn hơn như hdfs và được trích xuất ra các dạng phù hợp hơn khi làm việc với các bài toán ML.\n",
    "Trong phạm vi cuốn sách, việc lưu trữ và trích xuất dữ liệu như thế nào sẽ không được đề cập.\n",
    "Dữ liệu được giả sử là đã ở dạng csv và chúng ta sẽ làm việc trực tiếp trên các file csv này.\n",
    "\n",
    "Dữ liệu cho một bài toán có thể được cho trong một bảng lưu trong một file csv như file `train.csv` trong bộ dữ liệu Titanic.\n",
    "Mỗi hàng trong file csv thường ứng với một mẫu dữ liệu với các trường thông tin được phân tách bởi dấu phẩy (`,`).\n",
    "Dưới đây là 55 dòng đầu tiên của file `train.csv` khi nó được mở trong hầu hết các text editor."
   ]
  },
  {
   "cell_type": "code",
   "execution_count": 5,
   "id": "ceramic-taxation",
   "metadata": {},
   "outputs": [
    {
     "name": "stdout",
     "output_type": "stream",
     "text": [
      "cat: ../data/titanic/train.csv: No such file or directory\r\n"
     ]
    }
   ],
   "source": [
    "!cat ../data/titanic/train.csv | head -5"
   ]
  },
  {
   "cell_type": "markdown",
   "id": "durable-binary",
   "metadata": {},
   "source": [
    "Để cho dễ nhìn, bạn có thể sử dụng [`csvlook`](https://csvkit.readthedocs.io/en/1.0.2/scripts/csvlook.html) để quan sát dữ liệu dưới dạng bảng:"
   ]
  },
  {
   "cell_type": "code",
   "execution_count": 6,
   "id": "defensive-temple",
   "metadata": {},
   "outputs": [
    {
     "name": "stdout",
     "output_type": "stream",
     "text": [
      "/bin/bash: csvlook: command not found\r\n"
     ]
    }
   ],
   "source": [
    "!csvlook ../data/titanic/train.csv | head -6 # one additional line as header/content spliter"
   ]
  },
  {
   "cell_type": "markdown",
   "id": "structural-impact",
   "metadata": {},
   "source": [
    "Thông thường, các mô hình ML được yêu cầu dự đoán một cột sử dụng thông tin trong các cột còn lại.\n",
    "Trong bài toán Titanic, cột dữ liệu đó là `\"Survived\"` thể hiện một hành khách có sống sót sau thảm họa Titanic hay không.\n",
    "File `test.csv` có cấu trúc tương tự ngoại trừ việc nó không có cột `\"Survived\"`, cột này các đội tham gia cần dự đoán.\n",
    "\n",
    "Đôi khi, cột cần dự đoán không có sẵn trong bảng dữ liệu mà được tính dựa trên các cột khác.\n",
    "Chẳng hạn, với bảng dữ liệu trên, ta cũng có thể xây dựng bài toán \"Dự đoán một hành khách có trên 30 tuổi hay không\" dựa trên các cột còn lại.\n",
    "Tất nhiên, khi đó cột `\"Age\"` chỉ có trong tập huấn luyện mà không có trong tập kiểm tra.\n",
    "Khi xử lý dữ liệu, người kỹ sư ML cần xây dựng thêm một trường dữ liệu nữa có tên, chẳng hạn, `\"Age_greater_30\"` dựa vào cột `\"Age\"`\n",
    "\n",
    "Trong hầu hết các trường hợp khác, dữ liệu thường được lưu ở nhiều bảng khác nhau.\n",
    "Ví dụ với cuộc thi [Predict Future Sales](https://www.kaggle.com/c/competitive-data-science-predict-future-sales/data), dữ liệu được lưu ở nhiều bảng khác nhau:\n",
    "\n",
    "![](imgs/sales_data.png)\n",
    "\n",
    "Dữ liệu chính được lưu trong file `sales_train.csv`, các thông tin liên quan về cửa hàng và sản phẩm lần lượt được lưu ở `shops.csv` và `items.csv`.\n",
    "Ngoài ra, thông tin về mỗi hạng mục của sản phẩm được lưu ở `item_categories.csv`.\n",
    "Các file `test.csv` và `sample_submision.csv` có mục đích chỉ ra những thông tin mà các kỹ sư ML cần dự đoán.\n",
    "\n",
    "Nhìn chung, _mỗi bài toán ML với dự liệu dạng bảng có một cấu trúc dữ liệu khác nhau_.\n",
    "Trong mỗi bài toán có thể có nhiều bảng dữ liệu khác nhau.\n",
    "Trong ML với dữ liệu dạng bảng, phần lớn thời gian của các kỹ sư được dành cho việc xử lý các bảng dữ liệu này để tạo ra các đặc trưng dưới dạng số trước khi đưa chúng vào các mô hình ML."
   ]
  }
 ],
 "metadata": {
  "jupytext": {
   "text_representation": {
    "extension": ".md",
    "format_name": "myst",
    "format_version": 0.12,
    "jupytext_version": "1.8.2"
   }
  },
  "kernelspec": {
   "display_name": "Python 3",
   "language": "python",
   "name": "python3"
  },
  "language_info": {
   "codemirror_mode": {
    "name": "ipython",
    "version": 3
   },
   "file_extension": ".py",
   "mimetype": "text/x-python",
   "name": "python",
   "nbconvert_exporter": "python",
   "pygments_lexer": "ipython3",
   "version": "3.6.9"
  },
  "source_map": [
   12,
   44,
   49,
   56,
   58,
   87,
   94,
   98,
   105,
   128,
   130,
   134,
   136
  ]
 },
 "nbformat": 4,
 "nbformat_minor": 5
}