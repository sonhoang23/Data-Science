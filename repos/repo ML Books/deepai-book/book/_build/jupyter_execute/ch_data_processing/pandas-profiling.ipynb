{
 "cells": [
  {
   "cell_type": "markdown",
   "id": "round-identification",
   "metadata": {},
   "source": [
    "(sec_pandas_profiling)=\n",
    "# Pandas profiling\n",
    "\n",
    "[Pandas-profiling](https://github.com/pandas-profiling/pandas-profiling) là một công cụ hữu hiệu cho việc làm EDA cơ bản. Nó giúp bạn tạo ra một trang html có thể lưu trữ và truyền tải một cách nhanh gọn.\n",
    "Pandas-profiling giúp bạn có cái nhìn toàn cảnh về bộ dữ liệu, phân phối của từng cột cũng như độ tương quan giữa các cột. Sử dụng công cụ này sẽ giúp bạn giảm rất nhiều thời gian EDA.\n",
    "\n",
    "```{margin}\n",
    "Hiện pandas-profiling chỉ hỗ trợ EDA cho từng bảng dữ liệu dưới dạng pandas dataframe. Nếu  bộ dữ liệu của bạn có nhiều bảng liên kết với nhau, bạn sẽ cần thêm các bước xử lý thủ công trước khi có thể sử dụng công cụ này. Bạn đọc sẽ thấy thêm các ví dụ về EDA ở phần sau của cuốn sách.\n",
    "```\n",
    "\n",
    "Dưới đây là một đoạn code ngắn giúp làm EDA cho bộ dữ liệu Titanic sử dụng pandas-profiling."
   ]
  },
  {
   "cell_type": "code",
   "execution_count": 1,
   "id": "popular-pipeline",
   "metadata": {},
   "outputs": [
    {
     "ename": "ModuleNotFoundError",
     "evalue": "No module named 'pandas_profiling'",
     "output_type": "error",
     "traceback": [
      "\u001b[0;31m---------------------------------------------------------------------------\u001b[0m",
      "\u001b[0;31mModuleNotFoundError\u001b[0m                       Traceback (most recent call last)",
      "\u001b[0;32m<ipython-input-1-4a5d4d3e7c89>\u001b[0m in \u001b[0;36m<module>\u001b[0;34m\u001b[0m\n\u001b[1;32m      1\u001b[0m \u001b[0;32mimport\u001b[0m \u001b[0mpandas\u001b[0m \u001b[0;32mas\u001b[0m \u001b[0mpd\u001b[0m\u001b[0;34m\u001b[0m\u001b[0;34m\u001b[0m\u001b[0m\n\u001b[0;32m----> 2\u001b[0;31m \u001b[0;32mfrom\u001b[0m \u001b[0mpandas_profiling\u001b[0m \u001b[0;32mimport\u001b[0m \u001b[0mProfileReport\u001b[0m\u001b[0;34m\u001b[0m\u001b[0;34m\u001b[0m\u001b[0m\n\u001b[0m\u001b[1;32m      3\u001b[0m \u001b[0;34m\u001b[0m\u001b[0m\n\u001b[1;32m      4\u001b[0m \u001b[0mdf_train\u001b[0m \u001b[0;34m=\u001b[0m \u001b[0mpd\u001b[0m\u001b[0;34m.\u001b[0m\u001b[0mread_csv\u001b[0m\u001b[0;34m(\u001b[0m\u001b[0;34m\"../data/titanic/train.csv\"\u001b[0m\u001b[0;34m)\u001b[0m\u001b[0;34m\u001b[0m\u001b[0;34m\u001b[0m\u001b[0m\n\u001b[1;32m      5\u001b[0m \u001b[0;34m\u001b[0m\u001b[0m\n",
      "\u001b[0;31mModuleNotFoundError\u001b[0m: No module named 'pandas_profiling'"
     ]
    }
   ],
   "source": [
    "%%capture\n",
    "import pandas as pd\n",
    "from pandas_profiling import ProfileReport\n",
    "\n",
    "df_train = pd.read_csv(\"../data/titanic/train.csv\")\n",
    "\n",
    "profile = ProfileReport(\n",
    "    df_train, title=\"Pandas Profiling Report for Titanic train dataset\"\n",
    ")\n",
    "profile.to_file(\"../data_to_web/titanic_train_profiling.html\")"
   ]
  },
  {
   "cell_type": "markdown",
   "id": "polish-confirmation",
   "metadata": {},
   "source": [
    "Bản kết quả có thể được tìm thấy [tại đây](https://machinelearningcoban.com/tabml_book/data_to_web/titanic_train_profiling.html).\n",
    "\n",
    "Dưới đây là một số biểu đồ đáng chú ý.\n",
    "\n",
    "```{figure} imgs/titanic_overview.png\n",
    "---\n",
    "name: img_titanic_overview\n",
    "---\n",
    "Titanic Overview\n",
    "```\n",
    "\n",
    "{numref}`img_titanic_overview` thể hiện khái quát những thống kê về bộ dữ liệu.\n",
    "Có nhiều thông tin hữu ích như số lượng trường dữ liệu (_Number of variables_), số mẫu dữ liệu (_Number of observations_), số giá trị bị khuyết (_Missing cells_), số mẫu dự liệu bị lặp (_Duplicate rows_), số cột dạng hạng mục (_Categorical_) và số cột dạng số (_Numeric_).\n",
    "\n",
    "```{note}\n",
    "Lưu ý rằng khi không chỉ định rõ kiểu dữ liệu khi đọc file csv, pandas tự suy ra kiểu dựa trên giá trị của dữ liệu trong cột. Ở đây, `PassengerID` và `PClass` cũng được tính là dạng số vì chúng mang những giá trị có thể chuyển đổi ra số. Nếu bạn muốn chỉ định rõ, bạn cần sử dụng tham số `dtype`.\n",
    "```\n",
    "\n",
    "```{figure} imgs/titanic_warnings.png\n",
    "---\n",
    "name: img_titanic_warnings\n",
    "---\n",
    "Overview Warnings\n",
    "```\n",
    "\n",
    "{numref}`img_titanic_warnings` đưa ra những cảnh báo khái quát về những trường dữ liệu có chứa giá trị khuyết (_Missing_), có số lượng hạng mục cao (_High cardinality_), có nhiều giá trị bằng 0 (_Zeros_) cũng như chỉ chứa những giá trị riêng biệt (_Unique_).\n",
    "\n",
    "```{figure} imgs/titanic_age.png\n",
    "---\n",
    "name: img_titanic_age\n",
    "---\n",
    "Thống kê cột `Age`\n",
    "```\n",
    "\n",
    "Phần tiếp theo của bảng kết quả mang lại nhiều thông tin về phân phối của từng cột dữ liệu. {numref}`img_titanic_age` mô tả các thống kê về cột dữ liệu `Age`. Rất nhiều thông tin bạn có thể tìm thấy ở đây. \n",
    "\n",
    "\n",
    "Ở gần dưới cùng có mục \"Correlations\". Mục này minh họa độ tương quan giữa các cột dự liệu.\n",
    "Có bốn phương pháp tính độ tương quan giữa các cột với thông tin có thể tìm thấy tại nút \"Toggle correlation description\". Kết quả của mỗi phương pháp được thể hiện ở ma trận tương quan trong mỗi tab.\n",
    " \n",
    "Các tab \"Pearson's, Spearman's, Kendall's\" thể hiện sự tương quan giữa các cột dạng số. Tab \"Phik\" thể hiện cho tất cả cả cột và tab \"Cramer's\" dành cho các cột dạng hạng mục.\n",
    "\n",
    "```{figure} imgs/titanic_pearson.png\n",
    "---\n",
    "name: img_titanic_pearson\n",
    "---\n",
    "Ma trận tương quan Pearson's\n",
    "```\n",
    "\n",
    "{numref}`img_titanic_pearson` cho ta thấy rằng cột \"Pclass\" và cột \"Fare\" có tương quan ngược với hệ số tương quan màu cam đậm, tức là \"Pclass\" càng nhỏ thì \"Fare\" càng lớn và ngược lại. Điều này dễ hiểu vì hạng ghế và giá vé có quan hệ chặt chẽ với nhau.\n",
    "\n",
    "\n",
    "```{figure} imgs/titanic_phik.png\n",
    "---\n",
    "name: img_titanic_phik\n",
    "---\n",
    "Ma trận tương quan Phik\n",
    "```\n",
    "\n",
    "Cuối cùng, mở tab \"Phik\" như trong {numref}`img_titanic_phik` để tìm độ tương quan giữa các cột và cột nhãn \"Survived\", ta thấy rằng cột \"Sex\" có màu đậm nhất, tức có độ tương quan cao nhất.\n",
    "Điều này chỉ ra rằng các đặc trưng liên quan đến giới tính sẽ cho kết quả tốt.\n",
    "Đây có thể là lý do mà ban tổ chức cho một file nộp bài mẫu với kết quả dự đoán dựa trên giới tính của hành khách.\n",
    "\n",
    "Bạn đọc có thể xem thêm kết quả của bộ dữ liệu California Housing [tại đây](https://machinelearningcoban.com/tabml_book/data_to_web/california_housing_profiling.html)."
   ]
  },
  {
   "cell_type": "code",
   "execution_count": 2,
   "id": "contemporary-persian",
   "metadata": {
    "tags": [
     "hide-input"
    ]
   },
   "outputs": [
    {
     "ename": "ModuleNotFoundError",
     "evalue": "No module named 'pandas_profiling'",
     "output_type": "error",
     "traceback": [
      "\u001b[0;31m---------------------------------------------------------------------------\u001b[0m",
      "\u001b[0;31mModuleNotFoundError\u001b[0m                       Traceback (most recent call last)",
      "\u001b[0;32m<ipython-input-2-2b16053be3a5>\u001b[0m in \u001b[0;36m<module>\u001b[0;34m\u001b[0m\n\u001b[1;32m      1\u001b[0m \u001b[0;32mimport\u001b[0m \u001b[0mpandas\u001b[0m \u001b[0;32mas\u001b[0m \u001b[0mpd\u001b[0m\u001b[0;34m\u001b[0m\u001b[0;34m\u001b[0m\u001b[0m\n\u001b[0;32m----> 2\u001b[0;31m \u001b[0;32mfrom\u001b[0m \u001b[0mpandas_profiling\u001b[0m \u001b[0;32mimport\u001b[0m \u001b[0mProfileReport\u001b[0m\u001b[0;34m\u001b[0m\u001b[0;34m\u001b[0m\u001b[0m\n\u001b[0m\u001b[1;32m      3\u001b[0m \u001b[0;34m\u001b[0m\u001b[0m\n\u001b[1;32m      4\u001b[0m \u001b[0mdf_housing\u001b[0m \u001b[0;34m=\u001b[0m \u001b[0mpd\u001b[0m\u001b[0;34m.\u001b[0m\u001b[0mread_csv\u001b[0m\u001b[0;34m(\u001b[0m\u001b[0;34m\"../data/california_housing/housing.csv\"\u001b[0m\u001b[0;34m)\u001b[0m\u001b[0;34m\u001b[0m\u001b[0;34m\u001b[0m\u001b[0m\n\u001b[1;32m      5\u001b[0m \u001b[0;34m\u001b[0m\u001b[0m\n",
      "\u001b[0;31mModuleNotFoundError\u001b[0m: No module named 'pandas_profiling'"
     ]
    }
   ],
   "source": [
    "%%capture\n",
    "import pandas as pd\n",
    "from pandas_profiling import ProfileReport\n",
    "\n",
    "df_housing = pd.read_csv(\"../data/california_housing/housing.csv\")\n",
    "\n",
    "profile = ProfileReport(\n",
    "    df_housing, title=\"Pandas Profiling Report for California Housing train dataset\"\n",
    ")\n",
    "profile.to_file(\"../data_to_web/california_housing_profiling.html\")"
   ]
  },
  {
   "cell_type": "markdown",
   "id": "shared-transsexual",
   "metadata": {},
   "source": [
    "------------\n",
    "Các ma trận tương quan này rất hữu ích trong việc chọn ra các cột quan trọng trong việc xây dựng mô hình đầu tiên cho mỗi bài toán. Bạn có thể xem tất cả các tab để chọn ra những cột đó.\n",
    "Nên nhớ cần kiểm tra xem có hiện tượng rò rỉ dữ liệu (_data leakage_) hay không.\n",
    "\n",
    "_Trong mục tiếp theo, chúng ta sẽ tìm hiểu các kỹ thuật làm sạch dữ liệu và tạo đặc trưng trước khi xây dựng mô hình._"
   ]
  }
 ],
 "metadata": {
  "jupytext": {
   "text_representation": {
    "extension": ".md",
    "format_name": "myst",
    "format_version": 0.12,
    "jupytext_version": "1.8.2"
   }
  },
  "kernelspec": {
   "display_name": "Python 3",
   "language": "python",
   "name": "python3"
  },
  "language_info": {
   "codemirror_mode": {
    "name": "ipython",
    "version": 3
   },
   "file_extension": ".py",
   "mimetype": "text/x-python",
   "name": "python",
   "nbconvert_exporter": "python",
   "pygments_lexer": "ipython3",
   "version": "3.6.9"
  },
  "source_map": [
   12,
   26,
   37,
   104,
   117
  ]
 },
 "nbformat": 4,
 "nbformat_minor": 5
}